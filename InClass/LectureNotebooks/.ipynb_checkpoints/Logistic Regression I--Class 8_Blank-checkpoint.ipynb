{
 "cells": [
  {
   "cell_type": "code",
   "execution_count": 1,
   "metadata": {},
   "outputs": [],
   "source": [
    "import warnings\n",
    "warnings.filterwarnings('ignore')\n",
    "\n",
    "\n",
    "import pandas as pd\n",
    "import numpy as np\n",
    "from plotnine import *\n",
    "\n",
    "from sklearn.linear_model import LogisticRegression # Logistic Regression Model\n",
    "from sklearn.preprocessing import StandardScaler #Z-score variables\n",
    "from sklearn.metrics import accuracy_score, confusion_matrix, plot_confusion_matrix\n",
    "\n",
    "from sklearn.model_selection import train_test_split # simple TT split cv\n",
    "from sklearn.model_selection import KFold # k-fold cv\n",
    "from sklearn.model_selection import LeaveOneOut #LOO cv\n",
    "from sklearn.model_selection import cross_val_score # cross validation metrics\n",
    "from sklearn.model_selection import cross_val_predict # cross validation metrics\n",
    "\n",
    "\n",
    "%matplotlib inline"
   ]
  },
  {
   "cell_type": "code",
   "execution_count": 2,
   "metadata": {},
   "outputs": [
    {
     "data": {
      "text/html": [
       "<div>\n",
       "<style scoped>\n",
       "    .dataframe tbody tr th:only-of-type {\n",
       "        vertical-align: middle;\n",
       "    }\n",
       "\n",
       "    .dataframe tbody tr th {\n",
       "        vertical-align: top;\n",
       "    }\n",
       "\n",
       "    .dataframe thead th {\n",
       "        text-align: right;\n",
       "    }\n",
       "</style>\n",
       "<table border=\"1\" class=\"dataframe\">\n",
       "  <thead>\n",
       "    <tr style=\"text-align: right;\">\n",
       "      <th></th>\n",
       "      <th>age</th>\n",
       "      <th>income</th>\n",
       "      <th>months_subbed</th>\n",
       "      <th>upgrade</th>\n",
       "    </tr>\n",
       "  </thead>\n",
       "  <tbody>\n",
       "    <tr>\n",
       "      <th>0</th>\n",
       "      <td>22</td>\n",
       "      <td>55.89</td>\n",
       "      <td>14</td>\n",
       "      <td>0</td>\n",
       "    </tr>\n",
       "    <tr>\n",
       "      <th>1</th>\n",
       "      <td>32</td>\n",
       "      <td>86.03</td>\n",
       "      <td>57</td>\n",
       "      <td>0</td>\n",
       "    </tr>\n",
       "    <tr>\n",
       "      <th>2</th>\n",
       "      <td>38</td>\n",
       "      <td>49.22</td>\n",
       "      <td>37</td>\n",
       "      <td>1</td>\n",
       "    </tr>\n",
       "    <tr>\n",
       "      <th>3</th>\n",
       "      <td>14</td>\n",
       "      <td>92.71</td>\n",
       "      <td>51</td>\n",
       "      <td>1</td>\n",
       "    </tr>\n",
       "    <tr>\n",
       "      <th>4</th>\n",
       "      <td>33</td>\n",
       "      <td>94.06</td>\n",
       "      <td>37</td>\n",
       "      <td>0</td>\n",
       "    </tr>\n",
       "  </tbody>\n",
       "</table>\n",
       "</div>"
      ],
      "text/plain": [
       "   age  income  months_subbed  upgrade\n",
       "0   22   55.89             14        0\n",
       "1   32   86.03             57        0\n",
       "2   38   49.22             37        1\n",
       "3   14   92.71             51        1\n",
       "4   33   94.06             37        0"
      ]
     },
     "execution_count": 2,
     "metadata": {},
     "output_type": "execute_result"
    }
   ],
   "source": [
    "# data\n",
    "fashionBIG = pd.read_csv(\"https://raw.githubusercontent.com/cmparlettpelleriti/CPSC392ParlettPelleriti/master/Data/SKP_fashionBIG.csv\")\n",
    "fashionBIG.head()"
   ]
  },
  {
   "cell_type": "code",
   "execution_count": 5,
   "metadata": {},
   "outputs": [],
   "source": [
    "predictors = [\"age\", \"income\", \"months_subbed\"]\n",
    "\n",
    "#train test split \n",
    "#do not want to fit to the model we're using, will estimate how well our model preforms on unseen data\n",
    "X_train, X_test, y_train, y_test = train_test_split(fashionBIG[predictors], fashionBIG[\"upgrade\"], test_size=0.2)\n",
    "\n",
    "zscore = StandardScaler()\n",
    "# want to prevent data leakage, do not use test data while z-scoring\n",
    "#only want z-score on training data\n",
    "\n",
    "zscore.fit(X_train) #calculates mean and standard deviation\n",
    "\n",
    "#zscoring the testing data needs to be on the same as the training set so we dont get weird predictions \n",
    "\n",
    "Xz_train = zscore.transform(X_train)\n",
    "Xz_test = zscore.transform(X_test)"
   ]
  },
  {
   "cell_type": "code",
   "execution_count": 6,
   "metadata": {},
   "outputs": [],
   "source": [
    "#create\n",
    "myLogit = LogisticRegression()"
   ]
  },
  {
   "cell_type": "code",
   "execution_count": 7,
   "metadata": {},
   "outputs": [
    {
     "data": {
      "text/plain": [
       "LogisticRegression()"
      ]
     },
     "execution_count": 7,
     "metadata": {},
     "output_type": "execute_result"
    }
   ],
   "source": [
    "#fit\n",
    "myLogit.fit(Xz_train, y_train) #y_train = outcome values"
   ]
  },
  {
   "cell_type": "code",
   "execution_count": 10,
   "metadata": {},
   "outputs": [],
   "source": [
    "#predict\n",
    "\n",
    "#store models prediction whether people upgraded subscriptions to premium based off the training set\n",
    "predictedVals = myLogit.predict(Xz_test)"
   ]
  },
  {
   "cell_type": "code",
   "execution_count": 11,
   "metadata": {},
   "outputs": [
    {
     "data": {
      "text/plain": [
       "0.595"
      ]
     },
     "execution_count": 11,
     "metadata": {},
     "output_type": "execute_result"
    }
   ],
   "source": [
    "#blindly counts how much we got correct out of the total\n",
    "accuracy_score(y_test, predictedVals) #output the proportion of times our model got things correct"
   ]
  },
  {
   "cell_type": "code",
   "execution_count": 16,
   "metadata": {},
   "outputs": [
    {
     "data": {
      "text/plain": [
       "<sklearn.metrics._plot.confusion_matrix.ConfusionMatrixDisplay at 0x7f85ede60be0>"
      ]
     },
     "execution_count": 16,
     "metadata": {},
     "output_type": "execute_result"
    },
    {
     "data": {
      "image/png": "[encoded data removed]",
      "text/plain": [
       "<Figure size 432x288 with 2 Axes>"
      ]
     },
     "metadata": {
      "needs_background": "light"
     },
     "output_type": "display_data"
    }
   ],
   "source": [
    "#confusion matrix tells us which oens we got right but what categories their in and also their spread\n",
    "\n",
    "#confusion_matrix(y_test, predictedVals) #true, predicted\n",
    "#looking for the main diagonal (top left to bottom right) - indicate when the model is correct\n",
    "#the off diagonal is when the model got it incorrect\n",
    "\n",
    "plot_confusion_matrix(myLogit, Xz_test, y_test)\n",
    "#will plot a confusion matrix for us, easier to understand than the matrix itself\n",
    "#columns represent what our model predicted (left - predicted no upgrade, right - did upgrade)\n",
    "#rows are what the values of the data actually were (top  - didnt upgrade, bottom - did upgrade)\n",
    "#again read the diagonals (main diagonal = how often are we getting things right )\n",
    "\n",
    "#can exactly see how/when our model is correct"
   ]
  },
  {
   "cell_type": "markdown",
   "metadata": {},
   "source": [
    "## Predict new Data"
   ]
  },
  {
   "cell_type": "code",
   "execution_count": 20,
   "metadata": {},
   "outputs": [],
   "source": [
    "fashionNEW = pd.read_csv(\"https://raw.githubusercontent.com/cmparlettpelleriti/CPSC392ParlettPelleriti/master/Data/SKP_fashionNEW.csv\")\n",
    "\n",
    "Xnew = fashionNEW[predictors]\n",
    "Ynew = fashionNEW[\"upgrade\"]\n",
    "\n",
    "#z score the data before using it in your model (model built off zscored data, otherwise scale of predictors would be totally off)\n",
    "\n",
    "#zscore the predictors\n",
    "Xnewz = zscore.transform(Xnew)\n",
    "\n"
   ]
  },
  {
   "cell_type": "code",
   "execution_count": 21,
   "metadata": {},
   "outputs": [],
   "source": [
    "#use existing model to predict our valeus for the future data\n",
    "ypred = myLogit.predict(Xnewz)"
   ]
  },
  {
   "cell_type": "code",
   "execution_count": null,
   "metadata": {},
   "outputs": [],
   "source": [
    "#can use these predictions to better target people with ads, discounts, offers to incentivize people to pull the trigger and upgrade or to just keep tabs on customers"
   ]
  },
  {
   "cell_type": "code",
   "execution_count": null,
   "metadata": {},
   "outputs": [],
   "source": []
  },
  {
   "cell_type": "markdown",
   "metadata": {},
   "source": [
    "## LR with Cross Validation"
   ]
  },
  {
   "cell_type": "code",
   "execution_count": 23,
   "metadata": {},
   "outputs": [],
   "source": [
    "# Kfold\n",
    "\n",
    "#want to evaluate future data preformance of our model\n",
    "\n",
    "#grab x and y values of our original data set\n",
    "X = fashionBIG[[\"age\",\"income\",\"months_subbed\"]]\n",
    "y = fashionBIG[\"upgrade\"]\n",
    "\n",
    "# create k-fold object\n",
    "kf = KFold(n_splits = 5)\n",
    "\n",
    "#create model\n",
    "lr = LogisticRegression()\n",
    "\n",
    "#create empty list to store accuracy for each fold\n",
    "acc = []"
   ]
  },
  {
   "cell_type": "code",
   "execution_count": 28,
   "metadata": {},
   "outputs": [
    {
     "name": "stdout",
     "output_type": "stream",
     "text": [
      "[0.58, 0.605, 0.54, 0.565, 0.645, 0.58, 0.605, 0.54, 0.565, 0.645, 0.58, 0.605, 0.54, 0.565, 0.645]\n",
      "0.587\n"
     ]
    }
   ],
   "source": [
    "# Use a for loop to loop through each fold and train a model, then add the accuracy to acc.\n",
    "\n",
    "for train_indices, test_indices in kf.split(X):\n",
    "    # Get your train/test for this fold\n",
    "    X_train = X.iloc[train_indices]\n",
    "    X_test  = X.iloc[test_indices]\n",
    "    y_train = y[train_indices]\n",
    "    y_test  = y[test_indices]\n",
    "    \n",
    "    z = StandardScaler()\n",
    "    z.fit(X_train)\n",
    "    \n",
    "    Xz_train = z.transform(X_train)\n",
    "    Xz_test = z.transform(X_test)\n",
    "    # model\n",
    "    \n",
    "    model = lr.fit(Xz_train, y_train)\n",
    "    \n",
    "    # record accuracy\n",
    "    #grab the predicted values, and use that with the real values to calculate the accuracy\n",
    "    acc.append(accuracy_score(y_test, model.predict(Xz_test)))\n",
    "    \n",
    "    \n",
    "#print overall acc\n",
    "print(acc)\n",
    "print(np.mean(acc))"
   ]
  },
  {
   "cell_type": "code",
   "execution_count": null,
   "metadata": {},
   "outputs": [],
   "source": []
  }
 ],
 "metadata": {
  "hide_input": false,
  "kernelspec": {
   "display_name": "Python 3",
   "language": "python",
   "name": "python3"
  },
  "language_info": {
   "codemirror_mode": {
    "name": "ipython",
    "version": 3
   },
   "file_extension": ".py",
   "mimetype": "text/x-python",
   "name": "python",
   "nbconvert_exporter": "python",
   "pygments_lexer": "ipython3",
   "version": "3.9.1"
  },
  "toc": {
   "base_numbering": 1,
   "nav_menu": {},
   "number_sections": true,
   "sideBar": true,
   "skip_h1_title": false,
   "title_cell": "Table of Contents",
   "title_sidebar": "Contents",
   "toc_cell": false,
   "toc_position": {},
   "toc_section_display": true,
   "toc_window_display": false
  }
 },
 "nbformat": 4,
 "nbformat_minor": 2
}
