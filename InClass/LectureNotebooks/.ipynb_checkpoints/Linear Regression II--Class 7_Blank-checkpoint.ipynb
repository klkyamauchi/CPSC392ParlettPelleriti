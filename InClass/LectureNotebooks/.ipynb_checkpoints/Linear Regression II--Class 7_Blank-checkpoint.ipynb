{
 "cells": [
  {
   "cell_type": "code",
   "execution_count": 1,
   "metadata": {},
   "outputs": [],
   "source": [
    "import warnings\n",
    "warnings.filterwarnings('ignore')\n",
    "\n",
    "\n",
    "import pandas as pd\n",
    "import numpy as np\n",
    "from plotnine import *\n",
    "import statsmodels.api as sm\n",
    "\n",
    "from sklearn.linear_model import LinearRegression # Linear Regression Model\n",
    "from sklearn.preprocessing import StandardScaler #Z-score variables\n",
    "from sklearn.metrics import mean_squared_error, r2_score, accuracy_score #model evaluation\n",
    "\n",
    "from sklearn.model_selection import train_test_split # simple TT split cv\n",
    "from sklearn.model_selection import KFold # k-fold cv\n",
    "from sklearn.model_selection import LeaveOneOut #LOO cv\n",
    "from sklearn.model_selection import cross_val_score # cross validation metrics\n",
    "from sklearn.model_selection import cross_val_predict # cross validation metrics\n",
    "\n",
    "%matplotlib inline"
   ]
  },
  {
   "cell_type": "code",
   "execution_count": 2,
   "metadata": {},
   "outputs": [
    {
     "data": {
      "text/html": [
       "<div>\n",
       "<style scoped>\n",
       "    .dataframe tbody tr th:only-of-type {\n",
       "        vertical-align: middle;\n",
       "    }\n",
       "\n",
       "    .dataframe tbody tr th {\n",
       "        vertical-align: top;\n",
       "    }\n",
       "\n",
       "    .dataframe thead th {\n",
       "        text-align: right;\n",
       "    }\n",
       "</style>\n",
       "<table border=\"1\" class=\"dataframe\">\n",
       "  <thead>\n",
       "    <tr style=\"text-align: right;\">\n",
       "      <th></th>\n",
       "      <th>Unnamed: 0</th>\n",
       "      <th>artist_name</th>\n",
       "      <th>danceability</th>\n",
       "      <th>energy</th>\n",
       "      <th>key</th>\n",
       "      <th>loudness</th>\n",
       "      <th>mode</th>\n",
       "      <th>speechiness</th>\n",
       "      <th>acousticness</th>\n",
       "      <th>instrumentalness</th>\n",
       "      <th>liveness</th>\n",
       "      <th>valence</th>\n",
       "      <th>duration_ms</th>\n",
       "      <th>track_name</th>\n",
       "    </tr>\n",
       "  </thead>\n",
       "  <tbody>\n",
       "    <tr>\n",
       "      <th>0</th>\n",
       "      <td>1</td>\n",
       "      <td>Jonas Brothers</td>\n",
       "      <td>0.594</td>\n",
       "      <td>0.464</td>\n",
       "      <td>0</td>\n",
       "      <td>-7.898</td>\n",
       "      <td>1</td>\n",
       "      <td>0.0340</td>\n",
       "      <td>0.306000</td>\n",
       "      <td>0.000000</td>\n",
       "      <td>0.1870</td>\n",
       "      <td>0.545</td>\n",
       "      <td>193866</td>\n",
       "      <td>Please Be Mine</td>\n",
       "    </tr>\n",
       "    <tr>\n",
       "      <th>1</th>\n",
       "      <td>2</td>\n",
       "      <td>Jonas Brothers</td>\n",
       "      <td>0.582</td>\n",
       "      <td>0.697</td>\n",
       "      <td>7</td>\n",
       "      <td>-3.842</td>\n",
       "      <td>1</td>\n",
       "      <td>0.0695</td>\n",
       "      <td>0.000745</td>\n",
       "      <td>0.000000</td>\n",
       "      <td>0.1850</td>\n",
       "      <td>0.701</td>\n",
       "      <td>153346</td>\n",
       "      <td>S.O.S.</td>\n",
       "    </tr>\n",
       "    <tr>\n",
       "      <th>2</th>\n",
       "      <td>3</td>\n",
       "      <td>Jonas Brothers</td>\n",
       "      <td>0.442</td>\n",
       "      <td>0.961</td>\n",
       "      <td>1</td>\n",
       "      <td>-2.914</td>\n",
       "      <td>1</td>\n",
       "      <td>0.0928</td>\n",
       "      <td>0.000035</td>\n",
       "      <td>0.000036</td>\n",
       "      <td>0.0619</td>\n",
       "      <td>0.405</td>\n",
       "      <td>168480</td>\n",
       "      <td>Mandy</td>\n",
       "    </tr>\n",
       "    <tr>\n",
       "      <th>3</th>\n",
       "      <td>4</td>\n",
       "      <td>Jonas Brothers</td>\n",
       "      <td>0.659</td>\n",
       "      <td>0.857</td>\n",
       "      <td>11</td>\n",
       "      <td>-5.850</td>\n",
       "      <td>1</td>\n",
       "      <td>0.0437</td>\n",
       "      <td>0.004500</td>\n",
       "      <td>0.000002</td>\n",
       "      <td>0.3350</td>\n",
       "      <td>0.798</td>\n",
       "      <td>201960</td>\n",
       "      <td>Year 3000</td>\n",
       "    </tr>\n",
       "    <tr>\n",
       "      <th>4</th>\n",
       "      <td>5</td>\n",
       "      <td>Jonas Brothers</td>\n",
       "      <td>0.468</td>\n",
       "      <td>0.893</td>\n",
       "      <td>11</td>\n",
       "      <td>-3.554</td>\n",
       "      <td>1</td>\n",
       "      <td>0.1300</td>\n",
       "      <td>0.003890</td>\n",
       "      <td>0.000000</td>\n",
       "      <td>0.3670</td>\n",
       "      <td>0.810</td>\n",
       "      <td>164973</td>\n",
       "      <td>Hold On</td>\n",
       "    </tr>\n",
       "  </tbody>\n",
       "</table>\n",
       "</div>"
      ],
      "text/plain": [
       "   Unnamed: 0     artist_name  danceability  energy  key  loudness  mode  \\\n",
       "0           1  Jonas Brothers         0.594   0.464    0    -7.898     1   \n",
       "1           2  Jonas Brothers         0.582   0.697    7    -3.842     1   \n",
       "2           3  Jonas Brothers         0.442   0.961    1    -2.914     1   \n",
       "3           4  Jonas Brothers         0.659   0.857   11    -5.850     1   \n",
       "4           5  Jonas Brothers         0.468   0.893   11    -3.554     1   \n",
       "\n",
       "   speechiness  acousticness  instrumentalness  liveness  valence  \\\n",
       "0       0.0340      0.306000          0.000000    0.1870    0.545   \n",
       "1       0.0695      0.000745          0.000000    0.1850    0.701   \n",
       "2       0.0928      0.000035          0.000036    0.0619    0.405   \n",
       "3       0.0437      0.004500          0.000002    0.3350    0.798   \n",
       "4       0.1300      0.003890          0.000000    0.3670    0.810   \n",
       "\n",
       "   duration_ms      track_name  \n",
       "0       193866  Please Be Mine  \n",
       "1       153346          S.O.S.  \n",
       "2       168480           Mandy  \n",
       "3       201960       Year 3000  \n",
       "4       164973         Hold On  "
      ]
     },
     "execution_count": 2,
     "metadata": {},
     "output_type": "execute_result"
    }
   ],
   "source": [
    "# Data\n",
    "m = pd.read_csv(\"https://raw.githubusercontent.com/cmparlettpelleriti/CPSC392ParlettPelleriti/master/Data/Music_data.csv\")\n",
    "\n",
    "m.head()"
   ]
  },
  {
   "cell_type": "code",
   "execution_count": 4,
   "metadata": {},
   "outputs": [
    {
     "data": {
      "text/plain": [
       "(2553, 14)"
      ]
     },
     "execution_count": 4,
     "metadata": {},
     "output_type": "execute_result"
    }
   ],
   "source": [
    "#how much data do we have?\n",
    "m.shape\n",
    "\n",
    "#gives rows, columns"
   ]
  },
  {
   "cell_type": "markdown",
   "metadata": {},
   "source": [
    "# Train Test Split"
   ]
  },
  {
   "cell_type": "code",
   "execution_count": 5,
   "metadata": {},
   "outputs": [],
   "source": [
    "# Split Data\n",
    "#stick columns in a list \n",
    "predictors = [\"energy\", \"key\", \"loudness\", \"mode\", \"speechiness\", \"acousticness\", \"instrumentalness\", \"liveness\", \"valence\", \"duration_ms\"]\n",
    "\n",
    "#train test method takes columns of data frame, the variable you're predicting, and the test size\n",
    "#left is the exact order the function will return things in\n",
    "X_train, X_test, y_train, y_test = train_test_split(m[predictors], m[\"danceability\"], test_size=0.2)"
   ]
  },
  {
   "cell_type": "code",
   "execution_count": 6,
   "metadata": {},
   "outputs": [
    {
     "data": {
      "text/plain": [
       "(2042, 10)"
      ]
     },
     "execution_count": 6,
     "metadata": {},
     "output_type": "execute_result"
    }
   ],
   "source": [
    "X_train.shape"
   ]
  },
  {
   "cell_type": "code",
   "execution_count": 7,
   "metadata": {},
   "outputs": [
    {
     "data": {
      "text/plain": [
       "(511, 10)"
      ]
     },
     "execution_count": 7,
     "metadata": {},
     "output_type": "execute_result"
    }
   ],
   "source": [
    "X_test.shape"
   ]
  },
  {
   "cell_type": "code",
   "execution_count": 8,
   "metadata": {},
   "outputs": [
    {
     "data": {
      "text/plain": [
       "(511,)"
      ]
     },
     "execution_count": 8,
     "metadata": {},
     "output_type": "execute_result"
    }
   ],
   "source": [
    "y_test.shape"
   ]
  },
  {
   "cell_type": "code",
   "execution_count": 10,
   "metadata": {},
   "outputs": [
    {
     "data": {
      "text/plain": [
       "(2042,)"
      ]
     },
     "execution_count": 10,
     "metadata": {},
     "output_type": "execute_result"
    }
   ],
   "source": [
    "y_train.shape"
   ]
  },
  {
   "cell_type": "code",
   "execution_count": 11,
   "metadata": {},
   "outputs": [
    {
     "data": {
      "text/html": [
       "<div>\n",
       "<style scoped>\n",
       "    .dataframe tbody tr th:only-of-type {\n",
       "        vertical-align: middle;\n",
       "    }\n",
       "\n",
       "    .dataframe tbody tr th {\n",
       "        vertical-align: top;\n",
       "    }\n",
       "\n",
       "    .dataframe thead th {\n",
       "        text-align: right;\n",
       "    }\n",
       "</style>\n",
       "<table border=\"1\" class=\"dataframe\">\n",
       "  <thead>\n",
       "    <tr style=\"text-align: right;\">\n",
       "      <th></th>\n",
       "      <th>energy</th>\n",
       "      <th>key</th>\n",
       "      <th>loudness</th>\n",
       "      <th>mode</th>\n",
       "      <th>speechiness</th>\n",
       "      <th>acousticness</th>\n",
       "      <th>instrumentalness</th>\n",
       "      <th>liveness</th>\n",
       "      <th>valence</th>\n",
       "      <th>duration_ms</th>\n",
       "    </tr>\n",
       "  </thead>\n",
       "  <tbody>\n",
       "    <tr>\n",
       "      <th>2063</th>\n",
       "      <td>0.705</td>\n",
       "      <td>5</td>\n",
       "      <td>-4.394</td>\n",
       "      <td>1</td>\n",
       "      <td>0.0275</td>\n",
       "      <td>0.03700</td>\n",
       "      <td>0.000000</td>\n",
       "      <td>0.304</td>\n",
       "      <td>0.433</td>\n",
       "      <td>242826</td>\n",
       "    </tr>\n",
       "    <tr>\n",
       "      <th>2494</th>\n",
       "      <td>0.702</td>\n",
       "      <td>7</td>\n",
       "      <td>-5.324</td>\n",
       "      <td>0</td>\n",
       "      <td>0.0455</td>\n",
       "      <td>0.00640</td>\n",
       "      <td>0.000044</td>\n",
       "      <td>0.204</td>\n",
       "      <td>0.284</td>\n",
       "      <td>214840</td>\n",
       "    </tr>\n",
       "    <tr>\n",
       "      <th>1446</th>\n",
       "      <td>0.665</td>\n",
       "      <td>1</td>\n",
       "      <td>-5.070</td>\n",
       "      <td>1</td>\n",
       "      <td>0.1370</td>\n",
       "      <td>0.02010</td>\n",
       "      <td>0.000000</td>\n",
       "      <td>0.299</td>\n",
       "      <td>0.874</td>\n",
       "      <td>220426</td>\n",
       "    </tr>\n",
       "    <tr>\n",
       "      <th>557</th>\n",
       "      <td>0.814</td>\n",
       "      <td>5</td>\n",
       "      <td>-5.052</td>\n",
       "      <td>0</td>\n",
       "      <td>0.0817</td>\n",
       "      <td>0.00385</td>\n",
       "      <td>0.011500</td>\n",
       "      <td>0.082</td>\n",
       "      <td>0.848</td>\n",
       "      <td>302426</td>\n",
       "    </tr>\n",
       "    <tr>\n",
       "      <th>2284</th>\n",
       "      <td>0.871</td>\n",
       "      <td>6</td>\n",
       "      <td>-3.665</td>\n",
       "      <td>0</td>\n",
       "      <td>0.1130</td>\n",
       "      <td>0.07300</td>\n",
       "      <td>0.000128</td>\n",
       "      <td>0.364</td>\n",
       "      <td>0.234</td>\n",
       "      <td>179231</td>\n",
       "    </tr>\n",
       "  </tbody>\n",
       "</table>\n",
       "</div>"
      ],
      "text/plain": [
       "      energy  key  loudness  mode  speechiness  acousticness  \\\n",
       "2063   0.705    5    -4.394     1       0.0275       0.03700   \n",
       "2494   0.702    7    -5.324     0       0.0455       0.00640   \n",
       "1446   0.665    1    -5.070     1       0.1370       0.02010   \n",
       "557    0.814    5    -5.052     0       0.0817       0.00385   \n",
       "2284   0.871    6    -3.665     0       0.1130       0.07300   \n",
       "\n",
       "      instrumentalness  liveness  valence  duration_ms  \n",
       "2063          0.000000     0.304    0.433       242826  \n",
       "2494          0.000044     0.204    0.284       214840  \n",
       "1446          0.000000     0.299    0.874       220426  \n",
       "557           0.011500     0.082    0.848       302426  \n",
       "2284          0.000128     0.364    0.234       179231  "
      ]
     },
     "execution_count": 11,
     "metadata": {},
     "output_type": "execute_result"
    }
   ],
   "source": [
    "X_train.head()"
   ]
  },
  {
   "cell_type": "code",
   "execution_count": 12,
   "metadata": {},
   "outputs": [
    {
     "data": {
      "text/plain": [
       "LinearRegression()"
      ]
     },
     "execution_count": 12,
     "metadata": {},
     "output_type": "execute_result"
    }
   ],
   "source": [
    "model = LinearRegression()\n",
    "model.fit(X_train, y_train) #using just training set to fit the model"
   ]
  },
  {
   "cell_type": "code",
   "execution_count": 15,
   "metadata": {},
   "outputs": [
    {
     "data": {
      "text/plain": [
       "array([0.45857613, 0.58567044, 0.63181004, 0.72746858, 0.56923697,\n",
       "       0.60011149, 0.67218018, 0.66897347, 0.62499708])"
      ]
     },
     "execution_count": 15,
     "metadata": {},
     "output_type": "execute_result"
    }
   ],
   "source": [
    "# predictions\n",
    "y_pred = model.predict(X_test) #using data we've never seen, predict what the outcome would be\n",
    "\n",
    "#give first 10 songs\n",
    "y_pred[1:10]"
   ]
  },
  {
   "cell_type": "code",
   "execution_count": 16,
   "metadata": {},
   "outputs": [
    {
     "data": {
      "text/plain": [
       "0.34350521208206786"
      ]
     },
     "execution_count": 16,
     "metadata": {},
     "output_type": "execute_result"
    }
   ],
   "source": [
    "#testing R2\n",
    "\n",
    "model.score(X_test, y_test) #give me the testing r2 for the testing data using the model we've built\n",
    "\n",
    "#35% of the variation is accounted for by our model"
   ]
  },
  {
   "cell_type": "code",
   "execution_count": 17,
   "metadata": {},
   "outputs": [
    {
     "data": {
      "text/plain": [
       "0.3656216252746566"
      ]
     },
     "execution_count": 17,
     "metadata": {},
     "output_type": "execute_result"
    }
   ],
   "source": [
    "#training R2\n",
    "model.score(X_train, y_train) #give the training r2, using the training data we used to build the model\n",
    "\n",
    "#r2 is pretty similar so we did well"
   ]
  },
  {
   "cell_type": "code",
   "execution_count": 18,
   "metadata": {},
   "outputs": [
    {
     "data": {
      "text/html": [
       "<div>\n",
       "<style scoped>\n",
       "    .dataframe tbody tr th:only-of-type {\n",
       "        vertical-align: middle;\n",
       "    }\n",
       "\n",
       "    .dataframe tbody tr th {\n",
       "        vertical-align: top;\n",
       "    }\n",
       "\n",
       "    .dataframe thead th {\n",
       "        text-align: right;\n",
       "    }\n",
       "</style>\n",
       "<table border=\"1\" class=\"dataframe\">\n",
       "  <thead>\n",
       "    <tr style=\"text-align: right;\">\n",
       "      <th></th>\n",
       "      <th>predict</th>\n",
       "      <th>trueV</th>\n",
       "    </tr>\n",
       "  </thead>\n",
       "  <tbody>\n",
       "    <tr>\n",
       "      <th>37</th>\n",
       "      <td>0.667982</td>\n",
       "      <td>0.661</td>\n",
       "    </tr>\n",
       "    <tr>\n",
       "      <th>246</th>\n",
       "      <td>0.458576</td>\n",
       "      <td>0.361</td>\n",
       "    </tr>\n",
       "    <tr>\n",
       "      <th>312</th>\n",
       "      <td>0.585670</td>\n",
       "      <td>0.674</td>\n",
       "    </tr>\n",
       "    <tr>\n",
       "      <th>1083</th>\n",
       "      <td>0.631810</td>\n",
       "      <td>0.601</td>\n",
       "    </tr>\n",
       "    <tr>\n",
       "      <th>480</th>\n",
       "      <td>0.727469</td>\n",
       "      <td>0.614</td>\n",
       "    </tr>\n",
       "  </tbody>\n",
       "</table>\n",
       "</div>"
      ],
      "text/plain": [
       "       predict  trueV\n",
       "37    0.667982  0.661\n",
       "246   0.458576  0.361\n",
       "312   0.585670  0.674\n",
       "1083  0.631810  0.601\n",
       "480   0.727469  0.614"
      ]
     },
     "execution_count": 18,
     "metadata": {},
     "output_type": "execute_result"
    }
   ],
   "source": [
    "true_vs_pred = pd.DataFrame({\"predict\": y_pred,\"trueV\": y_test})\n",
    "true_vs_pred.head()"
   ]
  },
  {
   "cell_type": "code",
   "execution_count": 20,
   "metadata": {},
   "outputs": [
    {
     "data": {
      "image/png": "[encoded data removed]",
      "text/plain": [
       "<Figure size 640x480 with 1 Axes>"
      ]
     },
     "metadata": {},
     "output_type": "display_data"
    },
    {
     "data": {
      "text/plain": [
       "<ggplot: (8786385276941)>"
      ]
     },
     "execution_count": 20,
     "metadata": {},
     "output_type": "execute_result"
    }
   ],
   "source": [
    "(ggplot(true_vs_pred, aes(x = \"trueV\", y= \"predict\")) + geom_point()) "
   ]
  },
  {
   "cell_type": "markdown",
   "metadata": {},
   "source": [
    "# K Fold"
   ]
  },
  {
   "cell_type": "code",
   "execution_count": 21,
   "metadata": {},
   "outputs": [],
   "source": [
    "#need to create a K Fold object using the function\n",
    "\n",
    "kf = KFold(n_splits = 10) #create 10 splits"
   ]
  },
  {
   "cell_type": "code",
   "execution_count": 23,
   "metadata": {},
   "outputs": [],
   "source": [
    "X = m[predictors]\n",
    "y = m[\"danceability\"] #outcome\n",
    "\n",
    "lr = LinearRegression()\n",
    "mse = [] #mean squared error\n",
    "r2 = [] #r2"
   ]
  },
  {
   "cell_type": "code",
   "execution_count": 24,
   "metadata": {},
   "outputs": [],
   "source": [
    "for train,test in kf.split(X): #each iteration we are building is one of the K values for our cross validation\n",
    "    #grab whatever rows are the training set and testing set for each validation\n",
    "    X_train = X.iloc[train] #grabbing X data frame then subsetting the data frames for training and testing data\n",
    "    X_test = X.iloc[test]\n",
    "    y_train = y[train] # don't need to use iloc since y is one column and X is a data frame\n",
    "    y_test = y[test]\n",
    "    \n",
    "    #model\n",
    "    model = lr.fit(X_train, y_train) #model fit\n",
    "    mse.append(mean_squared_error(y_test, model.predict(X_test))) #real values, predicted values\n",
    "    r2.append(r2_score(y_test, model.predict(X_test)))"
   ]
  },
  {
   "cell_type": "code",
   "execution_count": 25,
   "metadata": {},
   "outputs": [
    {
     "data": {
      "text/plain": [
       "[0.020930307424302127,\n",
       " 0.023984158404378064,\n",
       " 0.017611888653199896,\n",
       " 0.014031482385972545,\n",
       " 0.0179645417271134,\n",
       " 0.02128329851637141,\n",
       " 0.021093072207528898,\n",
       " 0.007635165315696734,\n",
       " 0.011737773142066504,\n",
       " 0.011999264910150308]"
      ]
     },
     "execution_count": 25,
     "metadata": {},
     "output_type": "execute_result"
    }
   ],
   "source": [
    "mse"
   ]
  },
  {
   "cell_type": "code",
   "execution_count": 27,
   "metadata": {},
   "outputs": [
    {
     "data": {
      "text/plain": [
       "0.01682709526867799"
      ]
     },
     "execution_count": 27,
     "metadata": {},
     "output_type": "execute_result"
    }
   ],
   "source": [
    "np.mean(mse) #estimated mseR2"
   ]
  },
  {
   "cell_type": "code",
   "execution_count": 28,
   "metadata": {},
   "outputs": [
    {
     "data": {
      "text/plain": [
       "[-0.002650032042864403,\n",
       " 0.3228928599151566,\n",
       " 0.394660869505445,\n",
       " 0.28631073738919666,\n",
       " 0.2666614669225531,\n",
       " -0.019310441424661207,\n",
       " 0.2174324887166883,\n",
       " 0.2668440033953232,\n",
       " 0.1509333917630753,\n",
       " 0.145858790064048]"
      ]
     },
     "execution_count": 28,
     "metadata": {},
     "output_type": "execute_result"
    }
   ],
   "source": [
    "r2"
   ]
  },
  {
   "cell_type": "code",
   "execution_count": 30,
   "metadata": {},
   "outputs": [
    {
     "data": {
      "text/plain": [
       "0.20296341342039606"
      ]
     },
     "execution_count": 30,
     "metadata": {},
     "output_type": "execute_result"
    }
   ],
   "source": [
    "np.mean(r2) #model accounting for about 20% of variance in the data"
   ]
  },
  {
   "cell_type": "markdown",
   "metadata": {},
   "source": [
    "# Leave One Out"
   ]
  },
  {
   "cell_type": "code",
   "execution_count": 31,
   "metadata": {},
   "outputs": [],
   "source": [
    "loo = LeaveOneOut()\n",
    "\n",
    "mse = []"
   ]
  },
  {
   "cell_type": "code",
   "execution_count": 34,
   "metadata": {},
   "outputs": [],
   "source": [
    "for train,test in loo.split(X):\n",
    "    X_train = X.iloc[train]\n",
    "    X_test  = X.iloc[test]\n",
    "    y_train = y[train]\n",
    "    y_test  = y[test]\n",
    "    \n",
    "    # model\n",
    "    model = lr.fit(X_train, y_train)\n",
    "    # record accuracy\n",
    "    mse.append(mean_squared_error(y_test, model.predict(X_test)))\n",
    "    \n",
    "    #exactly the same as the k-fold loop from above\n",
    "    #every point in the data set is getting a separate model fit to it"
   ]
  },
  {
   "cell_type": "code",
   "execution_count": 35,
   "metadata": {},
   "outputs": [
    {
     "data": {
      "text/plain": [
       "0.01577326185227478"
      ]
     },
     "execution_count": 35,
     "metadata": {},
     "output_type": "execute_result"
    }
   ],
   "source": [
    "np.mean(mse)"
   ]
  },
  {
   "cell_type": "markdown",
   "metadata": {},
   "source": [
    "# Quick Note about Data Leakage..."
   ]
  },
  {
   "cell_type": "code",
   "execution_count": 36,
   "metadata": {},
   "outputs": [
    {
     "data": {
      "text/html": [
       "<div>\n",
       "<style scoped>\n",
       "    .dataframe tbody tr th:only-of-type {\n",
       "        vertical-align: middle;\n",
       "    }\n",
       "\n",
       "    .dataframe tbody tr th {\n",
       "        vertical-align: top;\n",
       "    }\n",
       "\n",
       "    .dataframe thead th {\n",
       "        text-align: right;\n",
       "    }\n",
       "</style>\n",
       "<table border=\"1\" class=\"dataframe\">\n",
       "  <thead>\n",
       "    <tr style=\"text-align: right;\">\n",
       "      <th></th>\n",
       "      <th>energy</th>\n",
       "      <th>key</th>\n",
       "      <th>loudness</th>\n",
       "      <th>mode</th>\n",
       "      <th>speechiness</th>\n",
       "      <th>acousticness</th>\n",
       "      <th>instrumentalness</th>\n",
       "      <th>liveness</th>\n",
       "      <th>valence</th>\n",
       "      <th>duration_ms</th>\n",
       "    </tr>\n",
       "  </thead>\n",
       "  <tbody>\n",
       "    <tr>\n",
       "      <th>1780</th>\n",
       "      <td>0.829</td>\n",
       "      <td>10</td>\n",
       "      <td>-5.020</td>\n",
       "      <td>1</td>\n",
       "      <td>0.0588</td>\n",
       "      <td>0.0806</td>\n",
       "      <td>0.000000</td>\n",
       "      <td>0.207</td>\n",
       "      <td>0.5200</td>\n",
       "      <td>226293</td>\n",
       "    </tr>\n",
       "    <tr>\n",
       "      <th>622</th>\n",
       "      <td>0.575</td>\n",
       "      <td>1</td>\n",
       "      <td>-6.706</td>\n",
       "      <td>1</td>\n",
       "      <td>0.0519</td>\n",
       "      <td>0.0546</td>\n",
       "      <td>0.000000</td>\n",
       "      <td>0.131</td>\n",
       "      <td>0.2050</td>\n",
       "      <td>222920</td>\n",
       "    </tr>\n",
       "    <tr>\n",
       "      <th>2457</th>\n",
       "      <td>0.183</td>\n",
       "      <td>6</td>\n",
       "      <td>-12.439</td>\n",
       "      <td>1</td>\n",
       "      <td>0.0333</td>\n",
       "      <td>0.9690</td>\n",
       "      <td>0.000038</td>\n",
       "      <td>0.331</td>\n",
       "      <td>0.0955</td>\n",
       "      <td>79786</td>\n",
       "    </tr>\n",
       "    <tr>\n",
       "      <th>1715</th>\n",
       "      <td>0.747</td>\n",
       "      <td>11</td>\n",
       "      <td>-6.926</td>\n",
       "      <td>0</td>\n",
       "      <td>0.0736</td>\n",
       "      <td>0.0280</td>\n",
       "      <td>0.006150</td>\n",
       "      <td>0.138</td>\n",
       "      <td>0.4870</td>\n",
       "      <td>234146</td>\n",
       "    </tr>\n",
       "    <tr>\n",
       "      <th>2523</th>\n",
       "      <td>0.327</td>\n",
       "      <td>2</td>\n",
       "      <td>-7.494</td>\n",
       "      <td>1</td>\n",
       "      <td>0.0411</td>\n",
       "      <td>0.8240</td>\n",
       "      <td>0.000000</td>\n",
       "      <td>0.101</td>\n",
       "      <td>0.3350</td>\n",
       "      <td>327773</td>\n",
       "    </tr>\n",
       "  </tbody>\n",
       "</table>\n",
       "</div>"
      ],
      "text/plain": [
       "      energy  key  loudness  mode  speechiness  acousticness  \\\n",
       "1780   0.829   10    -5.020     1       0.0588        0.0806   \n",
       "622    0.575    1    -6.706     1       0.0519        0.0546   \n",
       "2457   0.183    6   -12.439     1       0.0333        0.9690   \n",
       "1715   0.747   11    -6.926     0       0.0736        0.0280   \n",
       "2523   0.327    2    -7.494     1       0.0411        0.8240   \n",
       "\n",
       "      instrumentalness  liveness  valence  duration_ms  \n",
       "1780          0.000000     0.207   0.5200       226293  \n",
       "622           0.000000     0.131   0.2050       222920  \n",
       "2457          0.000038     0.331   0.0955        79786  \n",
       "1715          0.006150     0.138   0.4870       234146  \n",
       "2523          0.000000     0.101   0.3350       327773  "
      ]
     },
     "execution_count": 36,
     "metadata": {},
     "output_type": "execute_result"
    }
   ],
   "source": [
    "# Say you want to standardize...\n",
    "# Split Data\n",
    "predictors = [\"energy\", \"key\", \"loudness\", \"mode\", \"speechiness\", \"acousticness\", \"instrumentalness\", \"liveness\", \"valence\", \"duration_ms\"]\n",
    "\n",
    "X_train, X_test, y_train, y_test = train_test_split(m[predictors], m[\"danceability\"], test_size=0.2)\n",
    "\n",
    "X_train.head()\n",
    "\n",
    "#z-scores often creates data leakage, test set data leaks into the model\n",
    "#split the data first the z-score it separately"
   ]
  },
  {
   "cell_type": "code",
   "execution_count": 37,
   "metadata": {},
   "outputs": [],
   "source": [
    "zscore = StandardScaler()"
   ]
  },
  {
   "cell_type": "code",
   "execution_count": null,
   "metadata": {},
   "outputs": [],
   "source": []
  },
  {
   "cell_type": "code",
   "execution_count": null,
   "metadata": {},
   "outputs": [],
   "source": []
  },
  {
   "cell_type": "code",
   "execution_count": null,
   "metadata": {},
   "outputs": [],
   "source": [
    " # DO NOT REFIT, I REPEAT DO NOT REFIT"
   ]
  }
 ],
 "metadata": {
  "hide_input": false,
  "kernelspec": {
   "display_name": "Python 3",
   "language": "python",
   "name": "python3"
  },
  "language_info": {
   "codemirror_mode": {
    "name": "ipython",
    "version": 3
   },
   "file_extension": ".py",
   "mimetype": "text/x-python",
   "name": "python",
   "nbconvert_exporter": "python",
   "pygments_lexer": "ipython3",
   "version": "3.9.1"
  },
  "toc": {
   "base_numbering": 1,
   "nav_menu": {},
   "number_sections": true,
   "sideBar": true,
   "skip_h1_title": false,
   "title_cell": "Table of Contents",
   "title_sidebar": "Contents",
   "toc_cell": false,
   "toc_position": {},
   "toc_section_display": true,
   "toc_window_display": false
  }
 },
 "nbformat": 4,
 "nbformat_minor": 4
}
