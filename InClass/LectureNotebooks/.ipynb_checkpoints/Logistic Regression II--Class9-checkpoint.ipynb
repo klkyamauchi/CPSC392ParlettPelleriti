{
 "cells": [
  {
   "cell_type": "markdown",
   "metadata": {},
   "source": [
    "# Prediction"
   ]
  },
  {
   "cell_type": "code",
   "execution_count": 1,
   "metadata": {},
   "outputs": [],
   "source": [
    "import warnings\n",
    "warnings.filterwarnings('ignore')\n",
    "\n",
    "\n",
    "import pandas as pd\n",
    "import numpy as np\n",
    "from plotnine import *\n",
    "\n",
    "from sklearn.linear_model import LogisticRegression # Logistic Regression Model\n",
    "from sklearn.preprocessing import StandardScaler #Z-score variables\n",
    "from sklearn.metrics import accuracy_score, confusion_matrix\n",
    "\n",
    "from sklearn.model_selection import train_test_split # simple TT split cv\n",
    "from sklearn.model_selection import KFold # k-fold cv\n",
    "from sklearn.model_selection import LeaveOneOut #LOO cv\n",
    "from sklearn.model_selection import cross_val_score # cross validation metrics\n",
    "from sklearn.model_selection import cross_val_predict # cross validation metrics"
   ]
  },
  {
   "cell_type": "markdown",
   "metadata": {},
   "source": [
    "## Framework\n",
    "1. Model\n",
    "2. Fit\n",
    "3. Predict"
   ]
  },
  {
   "cell_type": "code",
   "execution_count": 2,
   "metadata": {},
   "outputs": [
    {
     "data": {
      "text/html": [
       "<div>\n",
       "<style scoped>\n",
       "    .dataframe tbody tr th:only-of-type {\n",
       "        vertical-align: middle;\n",
       "    }\n",
       "\n",
       "    .dataframe tbody tr th {\n",
       "        vertical-align: top;\n",
       "    }\n",
       "\n",
       "    .dataframe thead th {\n",
       "        text-align: right;\n",
       "    }\n",
       "</style>\n",
       "<table border=\"1\" class=\"dataframe\">\n",
       "  <thead>\n",
       "    <tr style=\"text-align: right;\">\n",
       "      <th></th>\n",
       "      <th>age</th>\n",
       "      <th>income</th>\n",
       "      <th>months_subbed</th>\n",
       "      <th>upgrade</th>\n",
       "    </tr>\n",
       "  </thead>\n",
       "  <tbody>\n",
       "    <tr>\n",
       "      <th>0</th>\n",
       "      <td>22</td>\n",
       "      <td>55.89</td>\n",
       "      <td>14</td>\n",
       "      <td>0</td>\n",
       "    </tr>\n",
       "    <tr>\n",
       "      <th>1</th>\n",
       "      <td>32</td>\n",
       "      <td>86.03</td>\n",
       "      <td>57</td>\n",
       "      <td>0</td>\n",
       "    </tr>\n",
       "    <tr>\n",
       "      <th>2</th>\n",
       "      <td>38</td>\n",
       "      <td>49.22</td>\n",
       "      <td>37</td>\n",
       "      <td>1</td>\n",
       "    </tr>\n",
       "    <tr>\n",
       "      <th>3</th>\n",
       "      <td>14</td>\n",
       "      <td>92.71</td>\n",
       "      <td>51</td>\n",
       "      <td>1</td>\n",
       "    </tr>\n",
       "    <tr>\n",
       "      <th>4</th>\n",
       "      <td>33</td>\n",
       "      <td>94.06</td>\n",
       "      <td>37</td>\n",
       "      <td>0</td>\n",
       "    </tr>\n",
       "  </tbody>\n",
       "</table>\n",
       "</div>"
      ],
      "text/plain": [
       "   age  income  months_subbed  upgrade\n",
       "0   22   55.89             14        0\n",
       "1   32   86.03             57        0\n",
       "2   38   49.22             37        1\n",
       "3   14   92.71             51        1\n",
       "4   33   94.06             37        0"
      ]
     },
     "execution_count": 2,
     "metadata": {},
     "output_type": "execute_result"
    }
   ],
   "source": [
    "# data\n",
    "fashionBIG = pd.read_csv(\"https://raw.githubusercontent.com/cmparlettpelleriti/CPSC392ParlettPelleriti/master/Data/SKP_fashionBIG.csv\")\n",
    "fashionBIG.head()"
   ]
  },
  {
   "cell_type": "code",
   "execution_count": 3,
   "metadata": {},
   "outputs": [],
   "source": [
    "predictors = [\"age\", \"income\", \"months_subbed\"]\n",
    "\n",
    "X_train, X_test, y_train, y_test = train_test_split(fashionBIG[predictors], fashionBIG[\"upgrade\"], test_size=0.2)\n",
    "X_train.head()\n",
    "\n",
    "zscore = StandardScaler()\n",
    "zscore.fit(X_train)\n",
    "Xz_train = zscore.transform(X_train)\n",
    "Xz_test = zscore.transform(X_test)"
   ]
  },
  {
   "cell_type": "code",
   "execution_count": 4,
   "metadata": {},
   "outputs": [
    {
     "ename": "SyntaxError",
     "evalue": "invalid syntax (<ipython-input-4-886f3b7af015>, line 1)",
     "output_type": "error",
     "traceback": [
      "\u001b[0;36m  File \u001b[0;32m\"<ipython-input-4-886f3b7af015>\"\u001b[0;36m, line \u001b[0;32m1\u001b[0m\n\u001b[0;31m    myLogit = LogisticRegression(pass = ) #create\u001b[0m\n\u001b[0m                                 ^\u001b[0m\n\u001b[0;31mSyntaxError\u001b[0m\u001b[0;31m:\u001b[0m invalid syntax\n"
     ]
    }
   ],
   "source": [
    "myLogit = LogisticRegression(penalty = \"none\" ) #create"
   ]
  },
  {
   "cell_type": "code",
   "execution_count": 6,
   "metadata": {},
   "outputs": [
    {
     "data": {
      "text/plain": [
       "LogisticRegression(C=1.0, class_weight=None, dual=False, fit_intercept=True,\n",
       "                   intercept_scaling=1, l1_ratio=None, max_iter=100,\n",
       "                   multi_class='auto', n_jobs=None, penalty='none',\n",
       "                   random_state=None, solver='lbfgs', tol=0.0001, verbose=0,\n",
       "                   warm_start=False)"
      ]
     },
     "execution_count": 6,
     "metadata": {},
     "output_type": "execute_result"
    }
   ],
   "source": [
    "myLogit.fit(Xz_train,y_train) #fit"
   ]
  },
  {
   "cell_type": "code",
   "execution_count": 7,
   "metadata": {},
   "outputs": [],
   "source": [
    "predictedVals = myLogit.predict(Xz_test) #predict"
   ]
  },
  {
   "cell_type": "code",
   "execution_count": 8,
   "metadata": {},
   "outputs": [
    {
     "data": {
      "text/plain": [
       "0.545"
      ]
     },
     "execution_count": 8,
     "metadata": {},
     "output_type": "execute_result"
    }
   ],
   "source": [
    "accuracy_score(y_test,predictedVals)"
   ]
  },
  {
   "cell_type": "code",
   "execution_count": 9,
   "metadata": {},
   "outputs": [
    {
     "data": {
      "text/plain": [
       "array([[21, 65],\n",
       "       [26, 88]])"
      ]
     },
     "execution_count": 9,
     "metadata": {},
     "output_type": "execute_result"
    }
   ],
   "source": [
    "confusion_matrix(y_test,predictedVals)"
   ]
  },
  {
   "cell_type": "markdown",
   "metadata": {},
   "source": [
    "## LR Coef interpretation\n"
   ]
  },
  {
   "cell_type": "code",
   "execution_count": 22,
   "metadata": {},
   "outputs": [
    {
     "data": {
      "text/html": [
       "<div>\n",
       "<style scoped>\n",
       "    .dataframe tbody tr th:only-of-type {\n",
       "        vertical-align: middle;\n",
       "    }\n",
       "\n",
       "    .dataframe tbody tr th {\n",
       "        vertical-align: top;\n",
       "    }\n",
       "\n",
       "    .dataframe thead th {\n",
       "        text-align: right;\n",
       "    }\n",
       "</style>\n",
       "<table border=\"1\" class=\"dataframe\">\n",
       "  <thead>\n",
       "    <tr style=\"text-align: right;\">\n",
       "      <th></th>\n",
       "      <th>Coefs</th>\n",
       "      <th>Names</th>\n",
       "    </tr>\n",
       "  </thead>\n",
       "  <tbody>\n",
       "    <tr>\n",
       "      <th>0</th>\n",
       "      <td>0.442800</td>\n",
       "      <td>age</td>\n",
       "    </tr>\n",
       "    <tr>\n",
       "      <th>1</th>\n",
       "      <td>-0.026811</td>\n",
       "      <td>income</td>\n",
       "    </tr>\n",
       "    <tr>\n",
       "      <th>2</th>\n",
       "      <td>-0.031354</td>\n",
       "      <td>months_subbed</td>\n",
       "    </tr>\n",
       "    <tr>\n",
       "      <th>3</th>\n",
       "      <td>0.342912</td>\n",
       "      <td>intercept</td>\n",
       "    </tr>\n",
       "  </tbody>\n",
       "</table>\n",
       "</div>"
      ],
      "text/plain": [
       "      Coefs          Names\n",
       "0  0.442800            age\n",
       "1 -0.026811         income\n",
       "2 -0.031354  months_subbed\n",
       "3  0.342912      intercept"
      ]
     },
     "execution_count": 22,
     "metadata": {},
     "output_type": "execute_result"
    }
   ],
   "source": [
    "coef = pd.DataFrame({\"Coefs\": myLogit.coef_[0], \"Names\": predictors})\n",
    "coef = coef.append({\"Coefs\": myLogit.intercept_[0], \"Names\": \"intercept\"}, ignore_index = True)\n",
    "coef"
   ]
  },
  {
   "cell_type": "code",
   "execution_count": 23,
   "metadata": {},
   "outputs": [
    {
     "data": {
      "text/html": [
       "<div>\n",
       "<style scoped>\n",
       "    .dataframe tbody tr th:only-of-type {\n",
       "        vertical-align: middle;\n",
       "    }\n",
       "\n",
       "    .dataframe tbody tr th {\n",
       "        vertical-align: top;\n",
       "    }\n",
       "\n",
       "    .dataframe thead th {\n",
       "        text-align: right;\n",
       "    }\n",
       "</style>\n",
       "<table border=\"1\" class=\"dataframe\">\n",
       "  <thead>\n",
       "    <tr style=\"text-align: right;\">\n",
       "      <th></th>\n",
       "      <th>Coefs</th>\n",
       "      <th>Names</th>\n",
       "      <th>Odds Coefs</th>\n",
       "    </tr>\n",
       "  </thead>\n",
       "  <tbody>\n",
       "    <tr>\n",
       "      <th>0</th>\n",
       "      <td>0.442800</td>\n",
       "      <td>age</td>\n",
       "      <td>1.557061</td>\n",
       "    </tr>\n",
       "    <tr>\n",
       "      <th>1</th>\n",
       "      <td>-0.026811</td>\n",
       "      <td>income</td>\n",
       "      <td>0.973545</td>\n",
       "    </tr>\n",
       "    <tr>\n",
       "      <th>2</th>\n",
       "      <td>-0.031354</td>\n",
       "      <td>months_subbed</td>\n",
       "      <td>0.969132</td>\n",
       "    </tr>\n",
       "    <tr>\n",
       "      <th>3</th>\n",
       "      <td>0.342912</td>\n",
       "      <td>intercept</td>\n",
       "      <td>1.409045</td>\n",
       "    </tr>\n",
       "  </tbody>\n",
       "</table>\n",
       "</div>"
      ],
      "text/plain": [
       "      Coefs          Names  Odds Coefs\n",
       "0  0.442800            age    1.557061\n",
       "1 -0.026811         income    0.973545\n",
       "2 -0.031354  months_subbed    0.969132\n",
       "3  0.342912      intercept    1.409045"
      ]
     },
     "execution_count": 23,
     "metadata": {},
     "output_type": "execute_result"
    }
   ],
   "source": [
    "coef[\"Odds Coefs\"] = np.exp(coef[\"Coefs\"])\n",
    "coef"
   ]
  },
  {
   "cell_type": "markdown",
   "metadata": {},
   "source": [
    "## LR different thresholds\n"
   ]
  },
  {
   "cell_type": "code",
   "execution_count": 25,
   "metadata": {},
   "outputs": [],
   "source": [
    "fashionNEW = pd.read_csv(\"https://raw.githubusercontent.com/cmparlettpelleriti/CPSC392ParlettPelleriti/master/Data/SKP_fashionNEW.csv\")\n",
    "\n",
    "Xnew = fashionNEW.iloc[:,0:3]\n",
    "Xnewz = zscore.transform(Xnew)"
   ]
  },
  {
   "cell_type": "code",
   "execution_count": 26,
   "metadata": {},
   "outputs": [
    {
     "data": {
      "text/plain": [
       "array([[0.32937155, 0.67062845],\n",
       "       [0.51210468, 0.48789532],\n",
       "       [0.51056941, 0.48943059],\n",
       "       [0.40192179, 0.59807821],\n",
       "       [0.43966231, 0.56033769],\n",
       "       [0.49023469, 0.50976531],\n",
       "       [0.40823083, 0.59176917],\n",
       "       [0.35609815, 0.64390185],\n",
       "       [0.61418534, 0.38581466]])"
      ]
     },
     "execution_count": 26,
     "metadata": {},
     "output_type": "execute_result"
    }
   ],
   "source": [
    "Ypred_prob = myLogit.predict_proba(Xnewz)\n",
    "Ypred_prob[1:10]"
   ]
  },
  {
   "cell_type": "code",
   "execution_count": 27,
   "metadata": {},
   "outputs": [
    {
     "data": {
      "text/plain": [
       "array([0.67062845, 0.48789532, 0.48943059, 0.59807821, 0.56033769,\n",
       "       0.50976531, 0.59176917, 0.64390185, 0.38581466, 0.62833486,\n",
       "       0.61288313, 0.34006166, 0.55541896, 0.49939229, 0.51752903,\n",
       "       0.35290117, 0.56938308, 0.74891502, 0.57917998, 0.57449298,\n",
       "       0.56753057, 0.62876465, 0.61784645, 0.42200799, 0.65472804,\n",
       "       0.6076984 , 0.5189158 , 0.60852446, 0.56996182, 0.57868769,\n",
       "       0.51314945, 0.44388772, 0.58785995, 0.44875066, 0.34425256,\n",
       "       0.77133662, 0.66442165, 0.6285264 , 0.33139596, 0.56051804,\n",
       "       0.73311748, 0.5940597 , 0.73723444, 0.53206644, 0.60974191,\n",
       "       0.60846013, 0.70682223, 0.64986057, 0.56753535, 0.52552016,\n",
       "       0.64461914, 0.65268661, 0.66045198, 0.61812289, 0.40624442,\n",
       "       0.56100277, 0.72320559, 0.65895541, 0.53417609, 0.58730398,\n",
       "       0.69607092, 0.59917861, 0.62330723, 0.51226263, 0.60271162,\n",
       "       0.68029245, 0.66230753, 0.74995844, 0.59699854, 0.48230334,\n",
       "       0.73003039, 0.33861372, 0.46751397, 0.45541736, 0.73910142,\n",
       "       0.73221577, 0.60682318, 0.59296614, 0.59131615, 0.67584169,\n",
       "       0.37808983, 0.48149478, 0.42391301, 0.55780922, 0.51299697,\n",
       "       0.64190854, 0.61625125, 0.5902343 , 0.7127969 , 0.46464116,\n",
       "       0.61857621, 0.6340837 , 0.78094855, 0.75694823, 0.57629698,\n",
       "       0.69190965, 0.61481859, 0.58919505, 0.72433413])"
      ]
     },
     "execution_count": 27,
     "metadata": {},
     "output_type": "execute_result"
    }
   ],
   "source": [
    "Ypred_prob1 = Ypred_prob[:, 1]\n",
    "Ypred_prob1[1:100]"
   ]
  },
  {
   "cell_type": "code",
   "execution_count": 28,
   "metadata": {},
   "outputs": [
    {
     "data": {
      "text/plain": [
       "array([1, 1, 1, 1, 1, 1, 1, 1, 1, 1, 1, 1, 1, 1, 1, 1, 1, 1, 1, 1, 1, 1,\n",
       "       1, 1, 1, 1, 1, 1, 1, 1, 1, 1, 1, 1, 1, 1, 1, 1, 1, 1, 1, 1, 1, 1,\n",
       "       1, 1, 1, 1, 1, 1, 1, 1, 1, 1, 1, 1, 1, 1, 1, 1, 1, 1, 1, 1, 1, 1,\n",
       "       1, 1, 1, 1, 1, 1, 1, 1, 1, 1, 1, 1, 1, 1, 1, 1, 1, 1, 1, 1, 1, 1,\n",
       "       1, 1, 1, 1, 1, 1, 1, 1, 1, 1, 1])"
      ]
     },
     "execution_count": 28,
     "metadata": {},
     "output_type": "execute_result"
    }
   ],
   "source": [
    "thresh = 0.3\n",
    "\n",
    "Ypred_prob1_thresh = (Ypred_prob1 > thresh) * 1\n",
    "Ypred_prob1_thresh[1:100]"
   ]
  },
  {
   "cell_type": "code",
   "execution_count": 29,
   "metadata": {},
   "outputs": [
    {
     "data": {
      "text/plain": [
       "0.603"
      ]
     },
     "execution_count": 29,
     "metadata": {},
     "output_type": "execute_result"
    }
   ],
   "source": [
    "accuracy_score(fashionNEW[\"upgrade\"], Ypred_prob1_thresh)"
   ]
  },
  {
   "cell_type": "markdown",
   "metadata": {},
   "source": [
    "## LR with Cross Validation"
   ]
  },
  {
   "cell_type": "code",
   "execution_count": 30,
   "metadata": {},
   "outputs": [],
   "source": [
    "# Kfold\n",
    "\n",
    "X = fashionBIG[[\"age\",\"income\",\"months_subbed\"]]\n",
    "y = fashionBIG[\"upgrade\"]\n",
    "\n",
    "# create k-fold object\n",
    "kf = KFold(n_splits = 5)\n",
    "kf.split(X)\n",
    "\n",
    "lr = LogisticRegression() #create model\n",
    "\n",
    "acc = [] #create empty list to store accuracy for each fold"
   ]
  },
  {
   "cell_type": "code",
   "execution_count": 31,
   "metadata": {},
   "outputs": [
    {
     "name": "stdout",
     "output_type": "stream",
     "text": [
      "[0.58, 0.605, 0.54, 0.565, 0.645]\n"
     ]
    },
    {
     "data": {
      "text/plain": [
       "0.587"
      ]
     },
     "execution_count": 31,
     "metadata": {},
     "output_type": "execute_result"
    }
   ],
   "source": [
    "# Use a for loop to loop through each fold and train a model, then add the accuracy to acc.\n",
    "\n",
    "for train_indices, test_indices in kf.split(X):\n",
    "    # Get your train/test for this fold\n",
    "    X_train = X.iloc[train_indices]\n",
    "    X_test  = X.iloc[test_indices]\n",
    "    y_train = y[train_indices]\n",
    "    y_test  = y[test_indices]\n",
    "    \n",
    "    # model\n",
    "    model = lr.fit(X_train, y_train)\n",
    "    # record accuracy\n",
    "    acc.append(accuracy_score(y_test, model.predict(X_test)))\n",
    "    \n",
    "#print overall acc\n",
    "print(acc)\n",
    "np.mean(acc)"
   ]
  },
  {
   "cell_type": "markdown",
   "metadata": {},
   "source": [
    "## Regularization"
   ]
  },
  {
   "cell_type": "code",
   "execution_count": 33,
   "metadata": {},
   "outputs": [
    {
     "name": "stdout",
     "output_type": "stream",
     "text": [
      "[[-0.03929939  0.02153877  0.03225226]]\n",
      "[0.27186273]\n"
     ]
    }
   ],
   "source": [
    "# Default Regularization\n",
    "# https://scikit-learn.org/stable/modules/generated/sklearn.linear_model.LogisticRegression.html\n",
    "\n",
    "myLogit = LogisticRegression() #create\n",
    "myLogit.fit(Xz_train,y_train) #fit\n",
    "\n",
    "print(myLogit.coef_)\n",
    "print(myLogit.intercept_)"
   ]
  },
  {
   "cell_type": "code",
   "execution_count": 34,
   "metadata": {},
   "outputs": [
    {
     "name": "stdout",
     "output_type": "stream",
     "text": [
      "[[-0.03950742  0.02165258  0.0324128 ]]\n",
      "[0.27186484]\n"
     ]
    }
   ],
   "source": [
    "myLogit2 = LogisticRegression(penalty = \"none\") #create\n",
    "myLogit2.fit(Xz_train,y_train) #fit\n",
    "\n",
    "print(myLogit2.coef_)\n",
    "print(myLogit2.intercept_)"
   ]
  }
 ],
 "metadata": {
  "hide_input": false,
  "kernelspec": {
   "display_name": "Python 3",
   "language": "python",
   "name": "python3"
  },
  "language_info": {
   "codemirror_mode": {
    "name": "ipython",
    "version": 3
   },
   "file_extension": ".py",
   "mimetype": "text/x-python",
   "name": "python",
   "nbconvert_exporter": "python",
   "pygments_lexer": "ipython3",
   "version": "3.9.1"
  },
  "toc": {
   "base_numbering": 1,
   "nav_menu": {},
   "number_sections": true,
   "sideBar": true,
   "skip_h1_title": false,
   "title_cell": "Table of Contents",
   "title_sidebar": "Contents",
   "toc_cell": false,
   "toc_position": {},
   "toc_section_display": true,
   "toc_window_display": false
  }
 },
 "nbformat": 4,
 "nbformat_minor": 4
}
