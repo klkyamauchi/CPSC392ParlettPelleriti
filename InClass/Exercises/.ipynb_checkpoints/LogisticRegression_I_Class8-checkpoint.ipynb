{
 "cells": [
  {
   "cell_type": "code",
   "execution_count": 1,
   "metadata": {},
   "outputs": [],
   "source": [
    "import warnings\n",
    "warnings.filterwarnings('ignore')\n",
    "\n",
    "\n",
    "import pandas as pd\n",
    "import numpy as np\n",
    "from plotnine import *\n",
    "\n",
    "from sklearn.linear_model import LogisticRegression\n",
    "from sklearn.preprocessing import StandardScaler #Z-score variables\n",
    "from sklearn.metrics import accuracy_score, confusion_matrix\n",
    "from sklearn.metrics import r2_score, mean_squared_error\n",
    "\n",
    "from sklearn.model_selection import train_test_split # simple TT split cv\n",
    "from sklearn.model_selection import KFold # k-fold cv\n",
    "from sklearn.model_selection import LeaveOneOut #LOO cv\n",
    "from sklearn.model_selection import cross_val_score # cross validation metrics\n",
    "from sklearn.model_selection import cross_val_predict # cross validation metrics\n",
    "\n",
    "from sklearn.preprocessing import LabelBinarizer\n",
    "\n",
    "from sklearn.metrics import plot_confusion_matrix"
   ]
  },
  {
   "cell_type": "markdown",
   "metadata": {},
   "source": [
    "# 0. Together\n",
    "\n",
    "Logistic Regression (as mentioned in lecture) is really just linear regression in disguise. The values we want to predict (0/1) are not on a linear scale. But with a few transformations, we can get them on a linear scale!\n",
    "\n",
    "1. predict probabilities rather than 0/1\n",
    "2. use odds rather than raw probabilities\n",
    "3. take the log of those odds to get log odds\n",
    "\n",
    "\n",
    "* What are the RANGES that our values can take on at each step 1,2, and 3?\n",
    "\n",
    "* What units (probs, odds, log odds) are your coefficients in when you grab them from a logistic regression model?\n",
    "\n",
    "* Logistic regression is a CLASSIFICATION algorithm, what does that mean?\n",
    "\n",
    "\n",
    "NOTE: ```y = df[[\"signed_up\"]]```\n",
    "\n",
    "NOTE: HW1 part 2, why refit??"
   ]
  },
  {
   "cell_type": "markdown",
   "metadata": {},
   "source": [
    "# 1. Simulating Data"
   ]
  },
  {
   "cell_type": "markdown",
   "metadata": {},
   "source": [
    "We're generating fake data that we're going to use to predict whether a customer at Target signs up for a rewards program (`rewards_signup`) based on \n",
    "\n",
    "* their age (`age`)\n",
    "* their income (`income_in_k`), and \n",
    "* whether they made a purchase (`previous_purchase`) in the last month\n",
    "\n",
    "Remember, each time you use a np.random.XXXX function, you'll get *different* fake data, because it's randomly generated. Try it out! If you want your data to come out the SAME each time, add the line `np.random.seed(XXXX)` at the top of the next cell, where `XXXX` is any integer you want like 42, 8675309, or 1234."
   ]
  },
  {
   "cell_type": "markdown",
   "metadata": {},
   "source": [
    "## 1.1 Logistic Regression Data Simulation"
   ]
  },
  {
   "cell_type": "code",
   "execution_count": 2,
   "metadata": {},
   "outputs": [],
   "source": [
    "n = 100 # number of samples"
   ]
  },
  {
   "cell_type": "code",
   "execution_count": 3,
   "metadata": {},
   "outputs": [],
   "source": [
    "# variables---\n",
    "np.random.seed(42)\n",
    "\n",
    "age = np.round(np.random.normal(37, 5, size = n),0)\n",
    "income_in_k = np.round(np.random.normal(100,10, size = n), 2)\n",
    "previous_purchase = np.random.binomial(1,0.5, size = n)\n",
    "\n",
    "# set true coefficients---\n",
    "a = 0.1 # age\n",
    "i = 0.03 # income\n",
    "p = 2.6 # previous purchase\n",
    "\n",
    "inter = -8.2 # intercept\n",
    "\n",
    "error = np.random.normal(0,0.25,size = n) # random error\n",
    "\n",
    "# probability they signed up for reward program---\n",
    "ex = np.exp(inter + a*age + i*income_in_k + p*previous_purchase + error) #predicted odds\n",
    "reward_signup = (ex/(1 + ex)) #predicted probability\n",
    "\n",
    "\n",
    "# you may also see the log reg formula like this---\n",
    "# reward_signup = 1/(1 + (1/ex)) \n",
    "\n",
    "\n",
    "# yes/no did they sign up---\n",
    "y = np.random.binomial(1, reward_signup) #generate random values\n",
    "\n",
    "\n",
    "# make DataFrame---\n",
    "df = pd.DataFrame({\"age\": age,\n",
    "                  \"income\": income_in_k,\n",
    "                  \"previous_purchase\": previous_purchase,\n",
    "                  \"signed_up\": y})\n",
    "\n"
   ]
  },
  {
   "cell_type": "code",
   "execution_count": 4,
   "metadata": {},
   "outputs": [
    {
     "data": {
      "image/png": "[encoded data removed]",
      "text/plain": [
       "<Figure size 640x480 with 1 Axes>"
      ]
     },
     "metadata": {
      "needs_background": "light"
     },
     "output_type": "display_data"
    },
    {
     "data": {
      "text/plain": [
       "<ggplot: (8774534980310)>"
      ]
     },
     "execution_count": 4,
     "metadata": {},
     "output_type": "execute_result"
    }
   ],
   "source": [
    "# plot\n",
    "(ggplot(df, aes(x = \"y\")) + geom_bar(color = \"black\") +\n",
    "theme_minimal() + labs(title = \"Did you sign up for the Rewards Program?\", x = \"\", y = \"\") + \n",
    "theme(panel_grid_major = element_blank()) +\n",
    "scale_x_continuous(breaks = [0,1], labels = [\"No\", \"Yes\"]))"
   ]
  },
  {
   "cell_type": "markdown",
   "metadata": {},
   "source": [
    "## 1.2 Fit a Logistic Regression Model"
   ]
  },
  {
   "cell_type": "code",
   "execution_count": 5,
   "metadata": {},
   "outputs": [],
   "source": [
    "features = [\"age\", \"income\", \"previous_purchase\"]\n",
    "X = df[features]\n",
    "y = df[[\"signed_up\"]] #if you don't have the extra brackets, y will be a series instead of an array and throw an error\n",
    "\n",
    "\n",
    "# create + fit a logistic regression\n",
    "#########################################\n",
    "\n",
    "#########################################"
   ]
  },
  {
   "cell_type": "code",
   "execution_count": 6,
   "metadata": {},
   "outputs": [],
   "source": [
    "# grab the coefficients from the model and store them in a data frame----\n",
    "\n",
    "#########################################\n",
    "\n",
    "#########################################"
   ]
  },
  {
   "cell_type": "markdown",
   "metadata": {},
   "source": [
    "The coefficient of age is 0.089866, and the intercept is -11.846610. The coefficient of age indicates that as length increases by 1 year, we expect the log odds of signing up to increase by 0.0899 .\n",
    "\n",
    "### *Question*\n",
    "\n",
    "Compare that to the TRUE population values we set above (hint: print `a` and `inter`). How close are the numbers from *this* logistic regression to the true values? What do you think will happen if we created another random sample? 100 random samples?\n",
    "\n",
    "<img src=\"https://drive.google.com/uc?export=view&id=1ghyQPx1N8dmU3MV4TrANvqNhGwnLni72\" alt=\"Q\" style=\"width: 200px;\"/>"
   ]
  },
  {
   "cell_type": "markdown",
   "metadata": {},
   "source": [
    "### *Question*\n",
    "\n",
    "What is the interpretation of the income coefficient?\n",
    "\n",
    "<img src=\"https://drive.google.com/uc?export=view&id=1ghyQPx1N8dmU3MV4TrANvqNhGwnLni72\" alt=\"Q\" style=\"width: 200px;\"/>"
   ]
  },
  {
   "cell_type": "markdown",
   "metadata": {},
   "source": [
    "# 2. Log Odds, Odds, and Probabilities\n",
    "\n",
    "The coefficients for **log**istic regression are in terms of **log** odds. While this means that our regression formula is nice and easy to solve, log odds can be tough to wrap your head around. Often, we exponentiate the coefficients (using `np.exp()`) to get our coefficients in terms of odds rather than log odds."
   ]
  },
  {
   "cell_type": "markdown",
   "metadata": {},
   "source": [
    "## 2.1 Odds\n",
    "\n",
    "We'll grab our coefficients from `coef` and exponentiate them:"
   ]
  },
  {
   "cell_type": "code",
   "execution_count": 7,
   "metadata": {},
   "outputs": [],
   "source": [
    "\n",
    "#########################################\n",
    "# add a new colum to your dataframe coef that has the coefficients in terms of ODDS\n",
    "\n",
    "#########################################"
   ]
  },
  {
   "cell_type": "markdown",
   "metadata": {},
   "source": [
    "The way you interpret coefficients in their exponentiated (odds) form is similar to how you interpret them in their raw form.\n",
    "\n",
    "Here's an example of the difference:\n",
    "\n",
    "**Raw Coefficient**: And increase in 1 year of age is associated with a 0.0899 increase in the log odds of signing up for the rewards program.\n",
    "\n",
    "**Exponentiated Coefficient**: An increase in 1 year of age is associated with a 1.094x increase in the odds of signing up for the rewards program.\n",
    "\n",
    "However, the math is slightly different."
   ]
  },
  {
   "cell_type": "markdown",
   "metadata": {},
   "source": [
    "### *Question*\n",
    "\n",
    "What is the interpretation of the age and income coefficients in terms of *odds*?\n",
    "<img src=\"https://drive.google.com/uc?export=view&id=1ghyQPx1N8dmU3MV4TrANvqNhGwnLni72\" alt=\"Q\" style=\"width: 200px;\"/>"
   ]
  },
  {
   "cell_type": "markdown",
   "metadata": {},
   "source": [
    "## 2.2 More Odds\n",
    "\n",
    "Using the coefficients generated by our model, let's look at how the predicted log odds and odds change when we play around with the values for `age`, `income`, and `previous_purchase`."
   ]
  },
  {
   "cell_type": "code",
   "execution_count": 8,
   "metadata": {},
   "outputs": [],
   "source": [
    "# Function to calculate the LOG ODDS based on coefs and predictor values\n",
    "\n",
    "def calc_lo(age,income, previous_purchase, coefs):\n",
    "    return(np.sum(np.array([age,income, previous_purchase, 1]) * coefs))"
   ]
  },
  {
   "cell_type": "code",
   "execution_count": 9,
   "metadata": {},
   "outputs": [
    {
     "ename": "NameError",
     "evalue": "name 'coef' is not defined",
     "output_type": "error",
     "traceback": [
      "\u001b[0;31m---------------------------------------------------------------------------\u001b[0m",
      "\u001b[0;31mNameError\u001b[0m                                 Traceback (most recent call last)",
      "\u001b[0;32m<ipython-input-9-de1bbdfbe8ff>\u001b[0m in \u001b[0;36m<module>\u001b[0;34m\u001b[0m\n\u001b[1;32m      4\u001b[0m \u001b[0;34m\u001b[0m\u001b[0m\n\u001b[1;32m      5\u001b[0m \u001b[0;31m# predicted logOdds for a 40 year old, with 121k income, no previous purchase\u001b[0m\u001b[0;34m\u001b[0m\u001b[0;34m\u001b[0m\u001b[0;34m\u001b[0m\u001b[0m\n\u001b[0;32m----> 6\u001b[0;31m \u001b[0mlo\u001b[0m \u001b[0;34m=\u001b[0m \u001b[0mcalc_lo\u001b[0m\u001b[0;34m(\u001b[0m\u001b[0mage_value\u001b[0m\u001b[0;34m,\u001b[0m\u001b[0;36m121\u001b[0m\u001b[0;34m,\u001b[0m\u001b[0;36m0\u001b[0m\u001b[0;34m,\u001b[0m \u001b[0mcoef\u001b[0m\u001b[0;34m[\u001b[0m\u001b[0;34m\"Coef\"\u001b[0m\u001b[0;34m]\u001b[0m\u001b[0;34m)\u001b[0m\u001b[0;34m\u001b[0m\u001b[0;34m\u001b[0m\u001b[0m\n\u001b[0m\u001b[1;32m      7\u001b[0m \u001b[0mprint\u001b[0m\u001b[0;34m(\u001b[0m\u001b[0;34m\"Log Odds for Original: \"\u001b[0m \u001b[0;34m+\u001b[0m \u001b[0mstr\u001b[0m\u001b[0;34m(\u001b[0m\u001b[0mlo\u001b[0m\u001b[0;34m)\u001b[0m\u001b[0;34m)\u001b[0m\u001b[0;34m\u001b[0m\u001b[0;34m\u001b[0m\u001b[0m\n\u001b[1;32m      8\u001b[0m \u001b[0;34m\u001b[0m\u001b[0m\n",
      "\u001b[0;31mNameError\u001b[0m: name 'coef' is not defined"
     ]
    }
   ],
   "source": [
    "#########################################\n",
    "age_value = 40\n",
    "#########################################\n",
    "\n",
    "# predicted logOdds for a 40 year old, with 121k income, no previous purchase\n",
    "lo = calc_lo(age_value,121,0, coef[\"Coef\"])\n",
    "print(\"Log Odds for Original: \" + str(lo))\n",
    "\n",
    "\n",
    "# predicted logOdds for a 41 year old, with 121k income, no previous purchase\n",
    "lo2 = calc_lo(age_value + 1,121,0, coef[\"Coef\"])\n",
    "print(\"Log Odds for +1 year : \" + str(lo2))\n",
    "\n",
    "# change in log odds for 1 year increase in age\n",
    "print(\"\\nThe difference in log odds is: \"  + str(lo2-lo))"
   ]
  },
  {
   "cell_type": "markdown",
   "metadata": {},
   "source": [
    "### *Question*\n",
    "\n",
    "The change in log odds for adding 1 year to a customer's age is equal to the coefficient for `age` from our model (As expected). Play around with the above code using different ages. How does the difference in predicted log odds change in response to a 1 year increase in age? Does it always change by the same amount?\n",
    "\n",
    "<img src=\"https://drive.google.com/uc?export=view&id=1ghyQPx1N8dmU3MV4TrANvqNhGwnLni72\" alt=\"Q\" style=\"width: 200px;\"/>\n",
    "\n",
    "\n",
    "Now let's look at the odds."
   ]
  },
  {
   "cell_type": "code",
   "execution_count": null,
   "metadata": {},
   "outputs": [],
   "source": [
    "# Function to calculate the ODDS based on coefs and predictor values\n",
    "# odds = e^lo\n",
    "\n",
    "def calc_o(age,income, previous_purchase, coefs):\n",
    "    return(np.exp(np.sum(np.array([age,income, previous_purchase, 1]) * coefs)))"
   ]
  },
  {
   "cell_type": "code",
   "execution_count": null,
   "metadata": {},
   "outputs": [],
   "source": [
    "#########################################\n",
    "age_value = 40\n",
    "#########################################\n",
    "\n",
    "# predicted odds for a 40 year old, with 121k income, no previous purchase\n",
    "o = calc_o(age_value,121,0, coef[\"Coef\"])\n",
    "print(\"Odds for Original: \" + str(o))\n",
    "\n",
    "\n",
    "# predicted odds for a 41 year old, with 121k income, no previous purchase\n",
    "o2 = calc_o(age_value + 1,121,0, coef[\"Coef\"])\n",
    "print(\"Odds for +1 year : \" + str(o2))\n",
    "\n",
    "# change in odds for 1 year increase\n",
    "print(\"\\nThe ratio of odds is: \"  + str(o2/o))"
   ]
  },
  {
   "cell_type": "markdown",
   "metadata": {},
   "source": [
    "Now try with a 27 year old."
   ]
  },
  {
   "cell_type": "code",
   "execution_count": null,
   "metadata": {},
   "outputs": [],
   "source": [
    "age_value = 27\n",
    "\n",
    "# predicted odds for a 27 year old, with 121k income, no previous purchase\n",
    "o = calc_o(age_value,121,0, coef[\"Coef\"])\n",
    "print(\"Odds for Original: \" + str(o))\n",
    "\n",
    "\n",
    "# predicted odds for a 28 year old, with 121k income, no previous purchase\n",
    "o2 = calc_o(age_value + 1,121,0, coef[\"Coef\"])\n",
    "print(\"Odds for +1 year : \" + str(o2))\n",
    "\n",
    "# change in odds for 1 year increase\n",
    "print(\"\\nThe ratio of odds is: \"  + str(o2/o))"
   ]
  },
  {
   "cell_type": "markdown",
   "metadata": {},
   "source": [
    "### *Question*\n",
    "\n",
    "The change in the ratio of odds for adding 1 year to a customer's age is equal to the exponentiated coefficient for `age` from our model (As expected). Now try plugging in some other ages. Is the change in the ratio (`o2/o`) *always* about 1.094 (there may be a small amount of rounding error)?\n",
    "\n",
    "<img src=\"https://drive.google.com/uc?export=view&id=1ghyQPx1N8dmU3MV4TrANvqNhGwnLni72\" alt=\"Q\" style=\"width: 200px;\"/>"
   ]
  },
  {
   "cell_type": "code",
   "execution_count": null,
   "metadata": {},
   "outputs": [],
   "source": [
    "#########################################\n",
    "# play around with different ages\n",
    "age_value = 30\n",
    "#########################################\n",
    "\n",
    "# predicted odds for a 30 year old, with 121k income, no previous purchase\n",
    "o = calc_o(age_value,121,0, coef[\"Coef\"])\n",
    "print(\"Odds for Original: \" + str(o))\n",
    "\n",
    "\n",
    "# predicted odds for a 31 year old, with 121k income, no previous purchase\n",
    "o2 = calc_o(age_value + 1,121,0, coef[\"Coef\"])\n",
    "print(\"Odds for +1 year : \" + str(o2))\n",
    "\n",
    "# change in odds for 1 year increase\n",
    "print(\"\\nThe change in odds is: \"  + str(o2/o))"
   ]
  },
  {
   "cell_type": "markdown",
   "metadata": {},
   "source": [
    "## 2.3 Probabilities are Problematic\n",
    "\n",
    "If you work with people who aren't familiar with them, even odds can seem tricky to interpret. So people will often ask you to transform odds into probabilities."
   ]
  },
  {
   "cell_type": "code",
   "execution_count": null,
   "metadata": {},
   "outputs": [],
   "source": [
    "# Function to calculate the probability based on coefs and predictor values\n",
    "\n",
    "def calc_p(age,income, previous_purchase, coefs):\n",
    "    odds = np.exp(np.sum(np.array([age,income, previous_purchase, 1]) * coefs))\n",
    "    return(odds/(1+odds))"
   ]
  },
  {
   "cell_type": "code",
   "execution_count": null,
   "metadata": {},
   "outputs": [],
   "source": [
    "#########################################\n",
    "age_value = 40\n",
    "#########################################\n",
    "\n",
    "# predicted prob for a 40 year old, with 121k income, no previous purchase\n",
    "o = calc_p(age_value,121,0, coef[\"Coef\"])\n",
    "print(\"Probability for Original: \" + str(o))\n",
    "\n",
    "\n",
    "# predicted prob for a 41 year old, with 121k income, no previous purchase\n",
    "o2 = calc_p(age_value + 1,121,0, coef[\"Coef\"])\n",
    "print(\"Probability for +1 year : \" + str(o2))\n",
    "\n",
    "# change in prob for 1 year increase\n",
    "print(\"\\nThe difference in probability is: \"  + str(o2-o))\n",
    "print(\"The change in probability is: \"  + str(o2/o))"
   ]
  },
  {
   "cell_type": "markdown",
   "metadata": {},
   "source": [
    "### *Question*\n",
    "\n",
    "Play around with different ages. Is either the *difference* or the *ratio* of the probabilities constant no matter what age you start with?\n",
    "\n",
    "<img src=\"https://drive.google.com/uc?export=view&id=1ghyQPx1N8dmU3MV4TrANvqNhGwnLni72\" alt=\"Q\" style=\"width: 200px;\"/>"
   ]
  },
  {
   "cell_type": "code",
   "execution_count": null,
   "metadata": {},
   "outputs": [],
   "source": [
    "def calc_p(age,income, previous_purchase, coefs):\n",
    "    odds = np.exp(np.sum(np.array([age,income, previous_purchase, 1]) * coefs))\n",
    "    return(odds/(1+odds))\n",
    "\n",
    "#########################################\n",
    "# play around with age values\n",
    "age_value = 0 \n",
    "#########################################\n",
    "\n",
    "# predicted prob for a ??? year old, with 121k income, no previous purchase\n",
    "o = calc_p(age_value,121,0, coef[\"Coef\"])\n",
    "print(\"Probability for Original: \" + str(o))\n",
    "\n",
    "\n",
    "# predicted prob for a ??? +1 year old, with 121k income, no previous purchase\n",
    "o2 = calc_p(age_value + 1,121,0, coef[\"Coef\"])\n",
    "print(\"Probability for +1 year : \" + str(o2))\n",
    "\n",
    "# change in prob for 1 year increase\n",
    "print(\"\\nThe difference in probability is: \"  + str(o2-o))\n",
    "print(\"The change in probability is: \"  + str(o2/o))"
   ]
  },
  {
   "cell_type": "markdown",
   "metadata": {},
   "source": [
    "(Moral of the story probabilities can make more intuitive sense, but the amount a 1 unit increase in a predictor changes the predicted probability is *NOT CONSTANT*, it depends heavily on the values of the predictor of interest and all other predictors. If you're going to report in terms of probabilities you MUST be specific about what values all your predictors have.)"
   ]
  },
  {
   "cell_type": "markdown",
   "metadata": {},
   "source": [
    "# 3. Accuracy Across Simulations\n",
    "\n",
    "Now, let's use this function to generate *many* fake datasets that all have the same true coefficients. Similar to adding mse in the Linear Regression example, change the below function to also record the accuracy for each model and return it."
   ]
  },
  {
   "cell_type": "code",
   "execution_count": null,
   "metadata": {},
   "outputs": [],
   "source": [
    "def logisticRegression(n = 100, age = 0.1, i = 0.03, p = 2.6, inter = -8.2):\n",
    "\n",
    "    age = np.round(np.random.normal(37, 5, size = n),0)\n",
    "    income_in_k = np.round(np.random.normal(100,10, size = n), 2)\n",
    "    previous_purchase = np.random.binomial(1,0.5, size = n)\n",
    "    \n",
    "    error = np.random.normal(0,0.25,size = n) # random error\n",
    "\n",
    "    # probability they signed up for reward program---\n",
    "    ex = np.exp(inter + a*age + i*income_in_k + p*previous_purchase + error)\n",
    "    reward_signup = (ex/(1 + ex)) \n",
    "\n",
    "\n",
    "    # you may also see the log reg formula like this---\n",
    "    # reward_signup = 1/(1 + (1/ex)) \n",
    "\n",
    "\n",
    "    # yes/no did they sign up---\n",
    "    y = np.random.binomial(1, reward_signup)\n",
    "    \n",
    "    # make DataFrame---\n",
    "    df = pd.DataFrame({\"age\": age,\n",
    "                      \"income\": income_in_k,\n",
    "                      \"previous_purchase\": previous_purchase,\n",
    "                      \"signed_up\": y})\n",
    "    \n",
    "    features = [\"age\", \"income\", \"previous_purchase\"]\n",
    "    X = df[features]\n",
    "    y = df[[\"signed_up\"]] #if you don't have the extra brackets, y will be a series instead of an array and throw an error\n",
    "\n",
    "    #########################################\n",
    "    # run + fit a logistic regression\n",
    "\n",
    "    \n",
    "    #########################################\n",
    "    \n",
    "    ##### ADD Acc CODE HERE ######\n",
    "    acc = ######\n",
    "    ###############################\n",
    "    \n",
    "    \n",
    "    # grab the coefficients from the model and store them in a data frame\n",
    "    coef = pd.DataFrame({\"Coef\": lr.coef_[0], \"Names\": features})\n",
    "    coef = coef.append({\"Coef\": lr.intercept_[0], \"Names\": \"intercept\"}, ignore_index = True)\n",
    "    \n",
    "    return({\"coef\": coef, \"data\": df, \"acc\": ######}) # dont forget to return accuracy!!#########################################\n"
   ]
  },
  {
   "cell_type": "markdown",
   "metadata": {},
   "source": [
    "### *Question*\n",
    "\n",
    "Simulate 500 datasets and plot a histogram of the accuracies. Remember, all these datasets are generated the exact same way and all have the exact same true values and error. What does the shape and spread of the histogram tell you about the accuracy values you observe when running a single model on a single (non-simulated) dataset?\n",
    "\n",
    "<img src=\"https://drive.google.com/uc?export=view&id=1ghyQPx1N8dmU3MV4TrANvqNhGwnLni72\" alt=\"Q\" width = 200px/>"
   ]
  },
  {
   "cell_type": "code",
   "execution_count": null,
   "metadata": {},
   "outputs": [],
   "source": [
    "n = 100\n",
    "#run regression simulation 500 times\n",
    "iWouldRun500Regressions = [logisticRegression() for x in range(0,500)]\n",
    "\n",
    "# grab coefficients from 500 simulations\n",
    "coef_df = pd.concat([x[\"coef\"] for x in iWouldRun500Regressions])\n",
    "\n",
    "# grab coefficients from 500 simulations\n",
    "data_df = pd.concat([x[\"data\"] for x in iWouldRun500Regressions])\n",
    "\n",
    "# grab acc from 500 simulations\n",
    "acc_df = pd.DataFrame({\"acc\": [x[\"acc\"] for x in iWouldRun500Regressions]})\n",
    "\n",
    "# number simulations 0:499\n",
    "data_df[\"simulation_no\"] = sorted(list(range(0,500))* n)\n",
    "coef_df[\"simulation_no\"] = sorted(list(range(0,500))*(len(features) + 1))\n",
    "acc_df[\"simulation_no\"] = list(range(0,500))"
   ]
  },
  {
   "cell_type": "code",
   "execution_count": null,
   "metadata": {},
   "outputs": [],
   "source": [
    "# plot a histogram or density plot of the different accuracy values"
   ]
  },
  {
   "cell_type": "code",
   "execution_count": null,
   "metadata": {},
   "outputs": [],
   "source": [
    "# plot a histogram or density plot of the different coefficient values"
   ]
  }
 ],
 "metadata": {
  "hide_input": false,
  "kernelspec": {
   "display_name": "Python 3",
   "language": "python",
   "name": "python3"
  },
  "language_info": {
   "codemirror_mode": {
    "name": "ipython",
    "version": 3
   },
   "file_extension": ".py",
   "mimetype": "text/x-python",
   "name": "python",
   "nbconvert_exporter": "python",
   "pygments_lexer": "ipython3",
   "version": "3.9.1"
  },
  "toc": {
   "base_numbering": 1,
   "nav_menu": {},
   "number_sections": true,
   "sideBar": true,
   "skip_h1_title": false,
   "title_cell": "Table of Contents",
   "title_sidebar": "Contents",
   "toc_cell": false,
   "toc_position": {},
   "toc_section_display": true,
   "toc_window_display": false
  }
 },
 "nbformat": 4,
 "nbformat_minor": 4
}
