{
 "cells": [
  {
   "cell_type": "code",
   "execution_count": 21,
   "metadata": {},
   "outputs": [],
   "source": [
    "import warnings\n",
    "warnings.filterwarnings('ignore')\n",
    "\n",
    "import pandas as pd\n",
    "import numpy as np"
   ]
  },
  {
   "cell_type": "markdown",
   "metadata": {},
   "source": [
    "# Get Dummies"
   ]
  },
  {
   "cell_type": "code",
   "execution_count": 22,
   "metadata": {},
   "outputs": [
    {
     "data": {
      "text/html": [
       "<div>\n",
       "<style scoped>\n",
       "    .dataframe tbody tr th:only-of-type {\n",
       "        vertical-align: middle;\n",
       "    }\n",
       "\n",
       "    .dataframe tbody tr th {\n",
       "        vertical-align: top;\n",
       "    }\n",
       "\n",
       "    .dataframe thead th {\n",
       "        text-align: right;\n",
       "    }\n",
       "</style>\n",
       "<table border=\"1\" class=\"dataframe\">\n",
       "  <thead>\n",
       "    <tr style=\"text-align: right;\">\n",
       "      <th></th>\n",
       "      <th>group</th>\n",
       "      <th>happiness</th>\n",
       "    </tr>\n",
       "  </thead>\n",
       "  <tbody>\n",
       "    <tr>\n",
       "      <th>0</th>\n",
       "      <td>B</td>\n",
       "      <td>-0.998062</td>\n",
       "    </tr>\n",
       "    <tr>\n",
       "      <th>1</th>\n",
       "      <td>A</td>\n",
       "      <td>1.152839</td>\n",
       "    </tr>\n",
       "    <tr>\n",
       "      <th>2</th>\n",
       "      <td>A</td>\n",
       "      <td>0.193641</td>\n",
       "    </tr>\n",
       "    <tr>\n",
       "      <th>3</th>\n",
       "      <td>A</td>\n",
       "      <td>0.356045</td>\n",
       "    </tr>\n",
       "    <tr>\n",
       "      <th>4</th>\n",
       "      <td>A</td>\n",
       "      <td>-1.046417</td>\n",
       "    </tr>\n",
       "  </tbody>\n",
       "</table>\n",
       "</div>"
      ],
      "text/plain": [
       "  group  happiness\n",
       "0     B  -0.998062\n",
       "1     A   1.152839\n",
       "2     A   0.193641\n",
       "3     A   0.356045\n",
       "4     A  -1.046417"
      ]
     },
     "execution_count": 22,
     "metadata": {},
     "output_type": "execute_result"
    }
   ],
   "source": [
    "# simulate data\n",
    "np.random.seed(8675309)\n",
    "\n",
    "n = 100\n",
    "x1 = np.random.choice([\"A\", \"B\", \"C\"], n)\n",
    "x2 = np.random.normal(0,1,n)\n",
    "\n",
    "df = pd.DataFrame({\"group\":x1, \"happiness\": x2})\n",
    "\n",
    "df.head()"
   ]
  },
  {
   "cell_type": "code",
   "execution_count": 23,
   "metadata": {},
   "outputs": [
    {
     "name": "stdout",
     "output_type": "stream",
     "text": [
      "    A  B  C\n",
      "0   0  1  0\n",
      "1   1  0  0\n",
      "2   1  0  0\n",
      "3   1  0  0\n",
      "4   1  0  0\n",
      ".. .. .. ..\n",
      "95  0  1  0\n",
      "96  0  0  1\n",
      "97  0  1  0\n",
      "98  0  1  0\n",
      "99  1  0  0\n",
      "\n",
      "[100 rows x 3 columns]\n"
     ]
    }
   ],
   "source": [
    "# notice that the categorical variable `group`, has more than 2 categories.\n",
    "\n",
    "# many algorithms want dummy/binary variables, so let's turn `group` into dummy/binary variables!\n",
    "dummies = pd.get_dummies(df[\"group\"])\n",
    "\n",
    "# you can see that we now have 3 columns, A, B, and C that\n",
    "# are all binary variables indicating whether each person was\n",
    "# A (1-yes, 0-no), B (1-yes, 0-no), or C (1-yes, 0-no)\n",
    "print(dummies)"
   ]
  },
  {
   "cell_type": "code",
   "execution_count": 24,
   "metadata": {},
   "outputs": [
    {
     "data": {
      "text/html": [
       "<div>\n",
       "<style scoped>\n",
       "    .dataframe tbody tr th:only-of-type {\n",
       "        vertical-align: middle;\n",
       "    }\n",
       "\n",
       "    .dataframe tbody tr th {\n",
       "        vertical-align: top;\n",
       "    }\n",
       "\n",
       "    .dataframe thead th {\n",
       "        text-align: right;\n",
       "    }\n",
       "</style>\n",
       "<table border=\"1\" class=\"dataframe\">\n",
       "  <thead>\n",
       "    <tr style=\"text-align: right;\">\n",
       "      <th></th>\n",
       "      <th>group</th>\n",
       "      <th>happiness</th>\n",
       "      <th>A</th>\n",
       "      <th>B</th>\n",
       "      <th>C</th>\n",
       "    </tr>\n",
       "  </thead>\n",
       "  <tbody>\n",
       "    <tr>\n",
       "      <th>0</th>\n",
       "      <td>B</td>\n",
       "      <td>-0.998062</td>\n",
       "      <td>0</td>\n",
       "      <td>1</td>\n",
       "      <td>0</td>\n",
       "    </tr>\n",
       "    <tr>\n",
       "      <th>1</th>\n",
       "      <td>A</td>\n",
       "      <td>1.152839</td>\n",
       "      <td>1</td>\n",
       "      <td>0</td>\n",
       "      <td>0</td>\n",
       "    </tr>\n",
       "    <tr>\n",
       "      <th>2</th>\n",
       "      <td>A</td>\n",
       "      <td>0.193641</td>\n",
       "      <td>1</td>\n",
       "      <td>0</td>\n",
       "      <td>0</td>\n",
       "    </tr>\n",
       "    <tr>\n",
       "      <th>3</th>\n",
       "      <td>A</td>\n",
       "      <td>0.356045</td>\n",
       "      <td>1</td>\n",
       "      <td>0</td>\n",
       "      <td>0</td>\n",
       "    </tr>\n",
       "    <tr>\n",
       "      <th>4</th>\n",
       "      <td>A</td>\n",
       "      <td>-1.046417</td>\n",
       "      <td>1</td>\n",
       "      <td>0</td>\n",
       "      <td>0</td>\n",
       "    </tr>\n",
       "  </tbody>\n",
       "</table>\n",
       "</div>"
      ],
      "text/plain": [
       "  group  happiness  A  B  C\n",
       "0     B  -0.998062  0  1  0\n",
       "1     A   1.152839  1  0  0\n",
       "2     A   0.193641  1  0  0\n",
       "3     A   0.356045  1  0  0\n",
       "4     A  -1.046417  1  0  0"
      ]
     },
     "execution_count": 24,
     "metadata": {},
     "output_type": "execute_result"
    }
   ],
   "source": [
    "# let's add these new variables to our original data frame:\n",
    "\n",
    "df = pd.concat([df,dummies], axis = 1) #there are other ways to do this too\n",
    "\n",
    "df.head()"
   ]
  },
  {
   "cell_type": "code",
   "execution_count": 25,
   "metadata": {},
   "outputs": [],
   "source": [
    "# you can get rid of the original group column if you want, just be sure NOT\n",
    "# to include both the group column AND the ABC columns together as predictors\n",
    "\n",
    "df = df[[\"happiness\", \"A\", \"B\", \"C\"]] #there are other ways to do this too"
   ]
  },
  {
   "cell_type": "markdown",
   "metadata": {},
   "source": [
    "# BONUS: Dummy Variables with Reference Categories\n",
    "\n",
    "Because in our example, A, B, and C are *mutually exclusive* (meaning no one can be both A and B, or B and C, or A and C at the same time), insteast of having THREE binary/dummy variables, we can get rid of one.\n",
    "\n",
    "For example, if we get rid of column `A`, then a person in group `A` is represented by having 0's for `B` AND `C`. `A` person in group `B` has a 1 for `B` and a 0 for `C`. And a person in group `C` has a 0 for `B` and a 1 for `C`. \n",
    "\n",
    "The column we get rid of is called the **reference class** because we assume anyone with all 0's for the other categories, is that (the reference) category.\n",
    "\n",
    "For example:"
   ]
  },
  {
   "cell_type": "code",
   "execution_count": 26,
   "metadata": {},
   "outputs": [],
   "source": [
    "df_referenceA = df[[\"happiness\", \"B\", \"C\"]] # df with reference class A\n",
    "df_referenceB = df[[\"happiness\", \"A\", \"C\"]] # df with reference class B\n",
    "df_referenceC = df[[\"happiness\", \"B\", \"A\"]] # df with reference class C"
   ]
  },
  {
   "cell_type": "markdown",
   "metadata": {},
   "source": [
    "we often use reference classes when doing linear/logistic regression, because then the interpretation of our coefficients are in *comparison* to the reference class. For example:"
   ]
  },
  {
   "cell_type": "code",
   "execution_count": 27,
   "metadata": {},
   "outputs": [],
   "source": [
    "from sklearn.linear_model import LinearRegression # Linear Regression Model\n",
    "from sklearn.preprocessing import StandardScaler #Z-score variables"
   ]
  },
  {
   "cell_type": "code",
   "execution_count": 32,
   "metadata": {},
   "outputs": [
    {
     "data": {
      "text/html": [
       "<div>\n",
       "<style scoped>\n",
       "    .dataframe tbody tr th:only-of-type {\n",
       "        vertical-align: middle;\n",
       "    }\n",
       "\n",
       "    .dataframe tbody tr th {\n",
       "        vertical-align: top;\n",
       "    }\n",
       "\n",
       "    .dataframe thead th {\n",
       "        text-align: right;\n",
       "    }\n",
       "</style>\n",
       "<table border=\"1\" class=\"dataframe\">\n",
       "  <thead>\n",
       "    <tr style=\"text-align: right;\">\n",
       "      <th></th>\n",
       "      <th>Coef</th>\n",
       "      <th>Name</th>\n",
       "    </tr>\n",
       "  </thead>\n",
       "  <tbody>\n",
       "    <tr>\n",
       "      <th>0</th>\n",
       "      <td>0.000232</td>\n",
       "      <td>B</td>\n",
       "    </tr>\n",
       "    <tr>\n",
       "      <th>1</th>\n",
       "      <td>-0.223117</td>\n",
       "      <td>C</td>\n",
       "    </tr>\n",
       "    <tr>\n",
       "      <th>2</th>\n",
       "      <td>0.100947</td>\n",
       "      <td>intercept</td>\n",
       "    </tr>\n",
       "  </tbody>\n",
       "</table>\n",
       "</div>"
      ],
      "text/plain": [
       "       Coef       Name\n",
       "0  0.000232          B\n",
       "1 -0.223117          C\n",
       "2  0.100947  intercept"
      ]
     },
     "execution_count": 32,
     "metadata": {},
     "output_type": "execute_result"
    }
   ],
   "source": [
    "lm = LinearRegression().fit(df[[\"B\", \"C\"]], df[[\"happiness\"]])\n",
    "lm.coef_\n",
    "coefficients = pd.DataFrame({\"Coef\":lm.coef_[0],\n",
    "              \"Name\": [\"B\", \"C\"]})\n",
    "coefficients = coefficients.append({\"Coef\": lm.intercept_[0],\n",
    "                    \"Name\": \"intercept\"}, ignore_index = True)\n",
    "\n",
    "coefficients"
   ]
  },
  {
   "cell_type": "markdown",
   "metadata": {},
   "source": [
    "We would interpret these effects as:\n",
    "\n",
    "`B`: \"Compared to being in group A, being in group B is associated with a 0.000232 increase in predicted happiness\"\n",
    "\n",
    "`C`: \"Compared to being in group A, being in group C is associated with a -0.223117 decrease in predicted happiness\"\n",
    "\n",
    "\n",
    "Because A is the *reference* class, we are comparing all other effects to it."
   ]
  }
 ],
 "metadata": {
  "hide_input": false,
  "kernelspec": {
   "display_name": "Python 3",
   "language": "python",
   "name": "python3"
  },
  "language_info": {
   "codemirror_mode": {
    "name": "ipython",
    "version": 3
   },
   "file_extension": ".py",
   "mimetype": "text/x-python",
   "name": "python",
   "nbconvert_exporter": "python",
   "pygments_lexer": "ipython3",
   "version": "3.8.1"
  },
  "toc": {
   "base_numbering": 1,
   "nav_menu": {},
   "number_sections": true,
   "sideBar": true,
   "skip_h1_title": false,
   "title_cell": "Table of Contents",
   "title_sidebar": "Contents",
   "toc_cell": false,
   "toc_position": {},
   "toc_section_display": true,
   "toc_window_display": false
  }
 },
 "nbformat": 4,
 "nbformat_minor": 4
}
