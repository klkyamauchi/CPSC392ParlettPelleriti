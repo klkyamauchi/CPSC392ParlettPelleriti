{
 "cells": [
  {
   "cell_type": "markdown",
   "metadata": {},
   "source": [
    "# HW4\n",
    "\n",
    "## GENERAL INSTRUCTIONS:\n",
    "\n",
    "- **CLEARLY** mark where you are answering each question (all written questions must be answered in Markdown cells, NOT as comments in code cells)\n",
    "- Show all code necessary for the analysis, but remove superfluous code\n",
    "\n",
    "---\n",
    "\n",
    "Using the dataset [HW4_1](https://raw.githubusercontent.com/cmparlettpelleriti/CPSC392ParlettPelleriti/master/Data/HW4_1.csv),\n",
    "\n",
    "- **a) (15 points)** Build a Linear Regression Model to predict `y` from all the `X` variables (`X1` to `X50`).\n",
    "    - Use TTS with a 90/10 split (since data is large)\n",
    "    - z-score your predictors\n",
    "    - record the MSE/R2 for both training/test sets\n",
    "    \n",
    "    \n",
    "    \n",
    "- **b) (10 points)** Thouroughly discuss the performance of the model built in part a. (*IN A MARKDOWN CELL*)\n",
    "\n",
    "\n",
    "\n",
    "- **c) (35 points)** Build a NEW Linear Regression Model, but using PCA:\n",
    "    - first, Use TTS with a 90/10 split (since data is large)\n",
    "    - z-score your predictors\n",
    "    - next, apply PCA to the *training set*.\n",
    "    - make a scree plot\n",
    "    - (15 of 35 points) **Thouroughly discuss** what the scree plot tells you about the `X` variables and their relationships to each other. (*IN A MARKDOWN CELL*)\n",
    "    - Figure out how many PCs you need to keep to retain 90% of the original variance.\n",
    "    - Use the fitted PCA model to create those component scores for both *training* and *test* set. DO NOT refit the PCA model on the test set.\n",
    "    - fit your model using these components and record the MSE/R2 for both training/test sets\n",
    "    \n",
    "    \n",
    "- **d) (20 points)** Thouroughly discuss how the performance of the model built in part c differs from the model in part a. In your answer, discuss how PCA works, and how that may relate to the change in performance you observed. Also discuss why z-scoring before applying PCA is important.(*IN A MARKDOWN CELL*)\n",
    "\n",
    "\n",
    "\n",
    "- **e) (20 points)** Thouroughly discuss whether *for this data set* you would choose to use the full data, or the Principle Components selected in part c, what are the advantages/disadvantages? (*IN A MARKDOWN CELL*)"
   ]
  },
  {
   "cell_type": "code",
   "execution_count": 1,
   "metadata": {},
   "outputs": [],
   "source": [
    "# import necessary packages"
   ]
  },
  {
   "cell_type": "code",
   "execution_count": null,
   "metadata": {},
   "outputs": [],
   "source": [
    "# a"
   ]
  },
  {
   "cell_type": "markdown",
   "metadata": {},
   "source": [
    "b)"
   ]
  },
  {
   "cell_type": "code",
   "execution_count": null,
   "metadata": {},
   "outputs": [],
   "source": [
    "# c"
   ]
  },
  {
   "cell_type": "markdown",
   "metadata": {},
   "source": [
    "c)"
   ]
  },
  {
   "cell_type": "markdown",
   "metadata": {},
   "source": [
    "d)"
   ]
  },
  {
   "cell_type": "markdown",
   "metadata": {},
   "source": [
    "e)"
   ]
  }
 ],
 "metadata": {
  "hide_input": false,
  "kernelspec": {
   "display_name": "Python 3",
   "language": "python",
   "name": "python3"
  },
  "language_info": {
   "codemirror_mode": {
    "name": "ipython",
    "version": 3
   },
   "file_extension": ".py",
   "mimetype": "text/x-python",
   "name": "python",
   "nbconvert_exporter": "python",
   "pygments_lexer": "ipython3",
   "version": "3.8.1"
  },
  "toc": {
   "base_numbering": 1,
   "nav_menu": {},
   "number_sections": true,
   "sideBar": true,
   "skip_h1_title": false,
   "title_cell": "Table of Contents",
   "title_sidebar": "Contents",
   "toc_cell": false,
   "toc_position": {},
   "toc_section_display": true,
   "toc_window_display": false
  }
 },
 "nbformat": 4,
 "nbformat_minor": 4
}
