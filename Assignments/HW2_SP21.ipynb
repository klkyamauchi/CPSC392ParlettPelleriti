{
 "cells": [
  {
   "cell_type": "markdown",
   "metadata": {},
   "source": [
    "# HW2\n",
    "\n",
    "## GENERAL INSTRUCTIONS:\n",
    "\n",
    "- CLEARLY mark where you are answering each question (all questions must be answered in Markdown cells, NOT as comments in code cells)\n",
    "- Show all code necessary for the analysis, but remove superfluous code\n",
    "\n",
    "---\n",
    "\n",
    "Use the [Loan Dataset](https://raw.githubusercontent.com/cmparlettpelleriti/CPSC392ParlettPelleriti/master/Data/HW2.csv) on GitHub to build the classification models described below.\n",
    "\n",
    "## Variable Descriptions:\n",
    "- `age`: age in years of person.\n",
    "- `had_cancer`: 0 if the person has NOT had cancer or has cancer, 1 if they have.\n",
    "- `gender_id`: `Male`, `Female`, `Non-Binary`, or `Survey Choices Do Not Accurately Reflect My Identity`.\n",
    "- `income_in_k`: income in thousands of dollars.\n",
    "- `state`: state person lives in.\n",
    "- `credit_score`: credit score.\n",
    "- `num_credit_sources`: number of sources of credit (includes credit cards, loans, car payments...etc).\n",
    "- `utilization_rate`: the % of a person's total credit they use on average each month. For example if you have 10,000 dollars in available credit, and use 2,000 your utilization rate would be 0.2 (20%).\n",
    "- `gave_loan`: whether or not the person got a loan.\n",
    "\n",
    "## Instructions\n",
    "1. *Build a KNN, Decision Tree, AND Logistic Regression model to predict whether or not someone got a loan (total of 3 models).*\n",
    "    - If a variable/predictor has more than 2 categories, use `get_dummies()` to convert them into dummy variables (don't forget to remove the original column when training!).\n",
    "    - use KFold with 5 folds (use the same KF loop to fit all three models)\n",
    "    - Z-score your continuous variables only (interval data like age...etc can be counted as continuous)\n",
    "    - For KNN, include only *continuous/interval* columns as predictors. For Decision Tree and Logistic Regression use ALL columns (other than `gave_loan`).\n",
    "    - For KNN, choose K by using grid search.\n",
    "    - For Decision Trees, set the `max_depth` if overfitting.\n",
    "    - Record the Train/Test accuracies, and print out confusion matrices.\n",
    "    \n",
    "    \n",
    "2. *Evaluate Your Models (ANSWER IN MARKDOWN CELL)*\n",
    "    - A) Using accuracy and confusion matrices, **which model did best, how can you tell?**\n",
    "    - B) **Are there differences in how well each model does for different gender IDs?**\n",
    "    - C) **Are your models better at predicting people who got loans, or didn't get loans? How can you tell?**"
   ]
  },
  {
   "cell_type": "code",
   "execution_count": 11,
   "metadata": {},
   "outputs": [],
   "source": [
    "import warnings\n",
    "warnings.filterwarnings('ignore')\n",
    "\n",
    "\n",
    "import pandas as pd\n",
    "import numpy as np\n",
    "from plotnine import *\n",
    "\n",
    "\n",
    "from sklearn.neighbors import KNeighborsClassifier\n",
    "from sklearn.tree import DecisionTreeClassifier # Decision Tree\n",
    "from sklearn.linear_model import LogisticRegression # Logistic Regression Model\n",
    "from sklearn.model_selection import train_test_split\n",
    "\n",
    "from sklearn import metrics \n",
    "from sklearn.preprocessing import StandardScaler #Z-score variables\n",
    "\n",
    "from sklearn.model_selection import train_test_split # simple TT split cv\n",
    "from sklearn.model_selection import KFold # k-fold cv\n",
    "from sklearn.model_selection import LeaveOneOut #LOO cv\n",
    "from sklearn.model_selection import cross_val_score # cross validation metrics\n",
    "from sklearn.model_selection import cross_val_predict # cross validation metrics\n",
    "from sklearn.metrics import accuracy_score, confusion_matrix\n",
    "from sklearn.metrics import plot_confusion_matrix\n",
    "\n",
    "from sklearn.model_selection import GridSearchCV"
   ]
  },
  {
   "cell_type": "code",
   "execution_count": 12,
   "metadata": {},
   "outputs": [
    {
     "data": {
      "text/html": [
       "<div>\n",
       "<style scoped>\n",
       "    .dataframe tbody tr th:only-of-type {\n",
       "        vertical-align: middle;\n",
       "    }\n",
       "\n",
       "    .dataframe tbody tr th {\n",
       "        vertical-align: top;\n",
       "    }\n",
       "\n",
       "    .dataframe thead th {\n",
       "        text-align: right;\n",
       "    }\n",
       "</style>\n",
       "<table border=\"1\" class=\"dataframe\">\n",
       "  <thead>\n",
       "    <tr style=\"text-align: right;\">\n",
       "      <th></th>\n",
       "      <th>age</th>\n",
       "      <th>had_cancer</th>\n",
       "      <th>gender_id</th>\n",
       "      <th>income_in_k</th>\n",
       "      <th>state</th>\n",
       "      <th>credit_score</th>\n",
       "      <th>num_credit_sources</th>\n",
       "      <th>utilization_rate</th>\n",
       "      <th>gave_loan</th>\n",
       "    </tr>\n",
       "  </thead>\n",
       "  <tbody>\n",
       "    <tr>\n",
       "      <th>0</th>\n",
       "      <td>39</td>\n",
       "      <td>0</td>\n",
       "      <td>Female</td>\n",
       "      <td>54</td>\n",
       "      <td>TX</td>\n",
       "      <td>448</td>\n",
       "      <td>4</td>\n",
       "      <td>0.32</td>\n",
       "      <td>0</td>\n",
       "    </tr>\n",
       "    <tr>\n",
       "      <th>1</th>\n",
       "      <td>43</td>\n",
       "      <td>0</td>\n",
       "      <td>Female</td>\n",
       "      <td>66</td>\n",
       "      <td>NJ</td>\n",
       "      <td>399</td>\n",
       "      <td>4</td>\n",
       "      <td>0.35</td>\n",
       "      <td>0</td>\n",
       "    </tr>\n",
       "    <tr>\n",
       "      <th>2</th>\n",
       "      <td>42</td>\n",
       "      <td>0</td>\n",
       "      <td>Male</td>\n",
       "      <td>50</td>\n",
       "      <td>NE</td>\n",
       "      <td>509</td>\n",
       "      <td>8</td>\n",
       "      <td>0.23</td>\n",
       "      <td>0</td>\n",
       "    </tr>\n",
       "    <tr>\n",
       "      <th>3</th>\n",
       "      <td>46</td>\n",
       "      <td>0</td>\n",
       "      <td>Female</td>\n",
       "      <td>79</td>\n",
       "      <td>TX</td>\n",
       "      <td>540</td>\n",
       "      <td>6</td>\n",
       "      <td>0.15</td>\n",
       "      <td>0</td>\n",
       "    </tr>\n",
       "    <tr>\n",
       "      <th>4</th>\n",
       "      <td>43</td>\n",
       "      <td>0</td>\n",
       "      <td>Female</td>\n",
       "      <td>49</td>\n",
       "      <td>NV</td>\n",
       "      <td>485</td>\n",
       "      <td>10</td>\n",
       "      <td>0.20</td>\n",
       "      <td>0</td>\n",
       "    </tr>\n",
       "  </tbody>\n",
       "</table>\n",
       "</div>"
      ],
      "text/plain": [
       "   age  had_cancer gender_id  income_in_k state  credit_score  \\\n",
       "0   39           0    Female           54    TX           448   \n",
       "1   43           0    Female           66    NJ           399   \n",
       "2   42           0      Male           50    NE           509   \n",
       "3   46           0    Female           79    TX           540   \n",
       "4   43           0    Female           49    NV           485   \n",
       "\n",
       "   num_credit_sources  utilization_rate  gave_loan  \n",
       "0                   4              0.32          0  \n",
       "1                   4              0.35          0  \n",
       "2                   8              0.23          0  \n",
       "3                   6              0.15          0  \n",
       "4                  10              0.20          0  "
      ]
     },
     "execution_count": 12,
     "metadata": {},
     "output_type": "execute_result"
    }
   ],
   "source": [
    "# data \n",
    "\n",
    "data = pd.read_csv(\"https://raw.githubusercontent.com/cmparlettpelleriti/CPSC392ParlettPelleriti/master/Data/HW2.csv\")\n",
    "data.head()"
   ]
  },
  {
   "cell_type": "code",
   "execution_count": 13,
   "metadata": {},
   "outputs": [],
   "source": [
    "# KNN Model\n",
    "\n",
    "predictors = ['age', 'income_in_k', 'credit_score', 'num_credit_sources', \n",
    "              'utilization_rate']\n",
    "X = data[predictors]\n",
    "y = data[\"gave_loan\"]\n",
    "\n",
    "# split into training and test\n",
    "X_train, X_test, y_train, y_test = train_test_split(X,y, test_size = 0.2)\n",
    "\n",
    "# create model\n",
    "knn = KNeighborsClassifier()\n",
    "\n",
    "# choose potential values of k\n",
    "ks = {\"n_neighbors\": range(1,30)}\n",
    "\n",
    "#standardize the variables\n",
    "z = StandardScaler()\n",
    "z.fit(X_train)\n",
    "Xz_train = z.transform(X_train)\n",
    "Xz_test = z.transform(X_test)\n",
    "\n",
    "# use grid search to find best parameters\n",
    "grid = GridSearchCV(knn,ks, scoring = \"accuracy\", cv = 5)\n",
    "\n",
    "#run the model validation for us and be the best fit model already\n",
    "knnModel = grid.fit(Xz_train, y_train)"
   ]
  },
  {
   "cell_type": "code",
   "execution_count": 14,
   "metadata": {},
   "outputs": [
    {
     "data": {
      "text/plain": [
       "<sklearn.metrics._plot.confusion_matrix.ConfusionMatrixDisplay at 0x7f8703375850>"
      ]
     },
     "execution_count": 14,
     "metadata": {},
     "output_type": "execute_result"
    },
    {
     "data": {
      "image/png": "[encoded data removed]",
      "text/plain": [
       "<Figure size 432x288 with 2 Axes>"
      ]
     },
     "metadata": {
      "needs_background": "light"
     },
     "output_type": "display_data"
    }
   ],
   "source": [
    "plot_confusion_matrix(knnModel, Xz_test, y_test)"
   ]
  },
  {
   "cell_type": "code",
   "execution_count": 15,
   "metadata": {},
   "outputs": [
    {
     "name": "stdout",
     "output_type": "stream",
     "text": [
      "KNN K-value: 28\n",
      "KNN Model Best Score: 0.73125\n",
      "KNN performance on unseen data: 0.735\n"
     ]
    }
   ],
   "source": [
    "#from your best model, get your best parameters (value of k)\n",
    "print(\"KNN K-value: \" + str(knnModel.best_estimator_.get_params()[\"n_neighbors\"]))\n",
    "\n",
    "# highest accuracy pulled from the model\n",
    "print(\"KNN Model Best Score: \" + str(knnModel.best_score_))\n",
    "\n",
    "#how well does our model do on unseen data\n",
    "print(\"KNN performance on unseen data: \" + str(knnModel.score(X_test,y_test)))"
   ]
  },
  {
   "cell_type": "code",
   "execution_count": 16,
   "metadata": {},
   "outputs": [],
   "source": [
    "# Convert dummy variables# 1. Build your Models\n",
    "dummies = pd.get_dummies(data[[\"gender_id\", \"state\"]])\n",
    "\n",
    "# add variables back into the data frame\n",
    "data = pd.concat([data, dummies], axis=1)"
   ]
  },
  {
   "cell_type": "code",
   "execution_count": 17,
   "metadata": {},
   "outputs": [],
   "source": [
    "# Logistic Regression\n",
    "\n",
    "predictors = ['age', 'had_cancer', 'income_in_k','credit_score', \n",
    "              'num_credit_sources', 'utilization_rate', 'gender_id_Female',\n",
    "              'gender_id_Male', 'gender_id_Non-Binary', \n",
    "              'gender_id_Survey Choices Do Not Accurately Reflect My Identity',\n",
    "              'state_TX', 'state_NJ', 'state_NE', 'state_NV', 'state_IA',\n",
    "              'state_AL', 'state_WA', 'state_WV', 'state_CA', 'state_LA',\n",
    "              'state_NY', 'state_GA', 'state_WI', 'state_MO', 'state_OR',\n",
    "              'state_NM', 'state_MA', 'state_KS', 'state_MD', 'state_UT',\n",
    "              'state_NH', 'state_AK', 'state_IL', 'state_SD', 'state_FL',\n",
    "              'state_DE', 'state_MS', 'state_RI', 'state_ME', 'state_SC',\n",
    "              'state_AR', 'state_ND', 'state_MI', 'state_CO', 'state_MN',\n",
    "              'state_MT', 'state_AZ', 'state_PA', 'state_HI', 'state_TN',\n",
    "              'state_ID', 'state_KY', 'state_NC', 'state_CT', 'state_OH',\n",
    "              'state_WY', 'state_IN', 'state_OK', 'state_VT', 'state_VA']\n",
    "\n",
    "X = data[predictors]\n",
    "y = data[\"gave_loan\"]\n",
    "\n",
    "kf = KFold(5, shuffle = True)\n",
    "#kf.split(X)\n",
    "\n",
    "lr = LogisticRegression()\n",
    "\n",
    "lr_acc = []\n",
    "tree_acc = []\n",
    "tree_depth = []"
   ]
  },
  {
   "cell_type": "code",
   "execution_count": 18,
   "metadata": {},
   "outputs": [
    {
     "data": {
      "image/png": "[encoded data removed]",
      "text/plain": [
       "<Figure size 432x288 with 2 Axes>"
      ]
     },
     "metadata": {
      "needs_background": "light"
     },
     "output_type": "display_data"
    },
    {
     "data": {
      "image/png": "[encoded data removed]",
      "text/plain": [
       "<Figure size 432x288 with 2 Axes>"
      ]
     },
     "metadata": {
      "needs_background": "light"
     },
     "output_type": "display_data"
    },
    {
     "data": {
      "image/png": "[encoded data removed]",
      "text/plain": [
       "<Figure size 432x288 with 2 Axes>"
      ]
     },
     "metadata": {
      "needs_background": "light"
     },
     "output_type": "display_data"
    },
    {
     "data": {
      "image/png": "[encoded data removed]",
      "text/plain": [
       "<Figure size 432x288 with 2 Axes>"
      ]
     },
     "metadata": {
      "needs_background": "light"
     },
     "output_type": "display_data"
    },
    {
     "data": {
      "image/png": "[encoded data removed]",
      "text/plain": [
       "<Figure size 432x288 with 2 Axes>"
      ]
     },
     "metadata": {
      "needs_background": "light"
     },
     "output_type": "display_data"
    }
   ],
   "source": [
    "# Logistic Regression and Decision Tree\n",
    "\n",
    "for train, test in kf.split(X):\n",
    "    # Get your train/test for this fold\n",
    "    X_train = X.iloc[train]\n",
    "    X_test  = X.iloc[test]\n",
    "    y_train = y[train]\n",
    "    y_test  = y[test]\n",
    "    \n",
    "    # Z-score continuous data\n",
    "    zScore = StandardScaler()\n",
    "    zScore.fit(X_train[['age', 'income_in_k', \n",
    "             'credit_score', 'num_credit_sources', \n",
    "             'utilization_rate']])\n",
    "    \n",
    "    X_train[['age', 'income_in_k', \n",
    "             'credit_score', 'num_credit_sources', \n",
    "             'utilization_rate']] = zScore.transform(X_train[['age', \n",
    "                                                              'income_in_k', \n",
    "                                                              'credit_score', \n",
    "                                                              'num_credit_sources', \n",
    "                                                              'utilization_rate']])\n",
    "    X_test[['age', 'income_in_k',\n",
    "            'credit_score', 'num_credit_sources', \n",
    "            'utilization_rate']] = zScore.transform(X_test[['age', \n",
    "                                                            'income_in_k', \n",
    "                                                            'credit_score',\n",
    "                                                            'num_credit_sources',\n",
    "                                                            'utilization_rate']])\n",
    "    \n",
    "    # create models\n",
    "    model = lr.fit(X_train, y_train) \n",
    "    tree = DecisionTreeClassifier()\n",
    "    tree.fit(X_train,y_train)\n",
    "    \n",
    "    # record accuracy\n",
    "    lr_acc.append(accuracy_score(y_test, model.predict(X_test)))\n",
    "    tree_acc.append(tree.score(X_test,y_test))\n",
    "    tree_depth.append(tree.get_depth())\n",
    "    \n",
    "    plot_confusion_matrix(tree,X_test,y_test)\n",
    "    "
   ]
  },
  {
   "cell_type": "code",
   "execution_count": null,
   "metadata": {},
   "outputs": [],
   "source": [
    "# 2. Evaluate your Models"
   ]
  },
  {
   "cell_type": "markdown",
   "metadata": {},
   "source": [
    "Answer to #2 here"
   ]
  }
 ],
 "metadata": {
  "hide_input": false,
  "kernelspec": {
   "display_name": "Python 3",
   "language": "python",
   "name": "python3"
  },
  "language_info": {
   "codemirror_mode": {
    "name": "ipython",
    "version": 3
   },
   "file_extension": ".py",
   "mimetype": "text/x-python",
   "name": "python",
   "nbconvert_exporter": "python",
   "pygments_lexer": "ipython3",
   "version": "3.9.1"
  },
  "toc": {
   "base_numbering": 1,
   "nav_menu": {},
   "number_sections": true,
   "sideBar": true,
   "skip_h1_title": false,
   "title_cell": "Table of Contents",
   "title_sidebar": "Contents",
   "toc_cell": false,
   "toc_position": {},
   "toc_section_display": true,
   "toc_window_display": false
  }
 },
 "nbformat": 4,
 "nbformat_minor": 4
}
