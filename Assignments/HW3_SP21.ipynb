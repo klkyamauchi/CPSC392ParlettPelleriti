{
 "cells": [
  {
   "cell_type": "markdown",
   "metadata": {},
   "source": [
    "# HW3\n",
    "\n",
    "## GENERAL INSTRUCTIONS:\n",
    "\n",
    "- **CLEARLY** mark where you are answering each question (all written questions must be answered in Markdown cells, NOT as comments in code cells)\n",
    "- Show all code necessary for the analysis, but remove superfluous code\n",
    "\n",
    "---\n",
    "\n",
    "- a) (15 points) Using the simulated data found [here](https://raw.githubusercontent.com/cmparlettpelleriti/CPSC392ParlettPelleriti/master/Data/HW3.csv), z score your variables, and use plotnine/ggplot to make a scatterplot of the data in a clear, and effective way. \n",
    "\n",
    "\n",
    "- b) (30 points) In a MARKDOWN cell, discuss what patterns you see in the data, and **thouroughly discuss the pros/cons** of using *k-means*, *Gaussian Mixture Models* (with EM), *DBSCAN*, and *Hierarchical Clustering* with patterns like the ones you see.\n",
    "\n",
    "(Please use \"\\*\\*\" to make any mention of one of the algorithms **bold** in your discussion. For example \"I think \\*\\*DBSCAN\\*\\* is the best algorithm ever!\" will make the word \"DBSCAN\" bold in a Markdown cell).\n",
    "\n",
    "- c) (17 points) choose which algorithm you think will perform the *best* on this data, and the algorithm you think will perform the *worst* on the data. **Briefly explain why you think each algo you chose is the best/worst** (there may be overlap from part b, but please answer this separately, despite repetition).\n",
    "\n",
    "\n",
    "- d) (18 points) using the TWO algorithms you chose in part c, cluster the data and calculate the silhouette scores. If you had to choose any hyperparameter values (including but not limited to: k, distance metric, linkage critera, eps, min_samples...etc), **state how you chose them**. **Which algorithm did better according to the silhouette scores and plots from part e?**\n",
    "\n",
    "\n",
    "- e) (20 points) using plotnine/ggplot, make one scatterplot for EACH of the two clustering algorithms that colors points by their cluster. **Are the clusters similar between the two algorithms? If yes, describe the shape/location of the clusters** (e.g. \"cluster X is a small, dense, circlular cluster with high values for x and low values for y...\"). **If no, describe the differnces in the shape/# of clusters.**"
   ]
  },
  {
   "cell_type": "code",
   "execution_count": 1,
   "metadata": {},
   "outputs": [],
   "source": [
    "# import necessary packages"
   ]
  },
  {
   "cell_type": "code",
   "execution_count": 2,
   "metadata": {},
   "outputs": [],
   "source": [
    "# a)"
   ]
  },
  {
   "cell_type": "markdown",
   "metadata": {},
   "source": [
    "b) (answer)"
   ]
  },
  {
   "cell_type": "markdown",
   "metadata": {},
   "source": [
    "c) (answer)"
   ]
  },
  {
   "cell_type": "code",
   "execution_count": 3,
   "metadata": {},
   "outputs": [],
   "source": [
    "# d)"
   ]
  },
  {
   "cell_type": "markdown",
   "metadata": {},
   "source": [
    "d) (answer)"
   ]
  },
  {
   "cell_type": "code",
   "execution_count": 4,
   "metadata": {},
   "outputs": [],
   "source": [
    "# e)"
   ]
  },
  {
   "cell_type": "markdown",
   "metadata": {},
   "source": [
    "e) (answer)"
   ]
  }
 ],
 "metadata": {
  "hide_input": false,
  "kernelspec": {
   "display_name": "Python 3",
   "language": "python",
   "name": "python3"
  },
  "language_info": {
   "codemirror_mode": {
    "name": "ipython",
    "version": 3
   },
   "file_extension": ".py",
   "mimetype": "text/x-python",
   "name": "python",
   "nbconvert_exporter": "python",
   "pygments_lexer": "ipython3",
   "version": "3.8.1"
  },
  "toc": {
   "base_numbering": 1,
   "nav_menu": {},
   "number_sections": true,
   "sideBar": true,
   "skip_h1_title": false,
   "title_cell": "Table of Contents",
   "title_sidebar": "Contents",
   "toc_cell": false,
   "toc_position": {},
   "toc_section_display": true,
   "toc_window_display": false
  }
 },
 "nbformat": 4,
 "nbformat_minor": 4
}
